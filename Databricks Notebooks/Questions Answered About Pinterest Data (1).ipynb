{
 "cells": [
  {
   "cell_type": "markdown",
   "metadata": {
    "application/vnd.databricks.v1+cell": {
     "cellMetadata": {
      "byteLimit": 2048000,
      "rowLimit": 10000
     },
     "inputWidgets": {},
     "nuid": "de5de7cc-e403-44c3-ba35-0a5cfbba8537",
     "showTitle": false,
     "title": ""
    }
   },
   "source": [
    "Q1. Find the most popular Pinterest category people post to based on their country."
   ]
  },
  {
   "cell_type": "code",
   "execution_count": 0,
   "metadata": {
    "application/vnd.databricks.v1+cell": {
     "cellMetadata": {
      "byteLimit": 2048000,
      "rowLimit": 10000
     },
     "inputWidgets": {},
     "nuid": "396143d3-b9f8-487c-bf60-c14a774011c7",
     "showTitle": false,
     "title": ""
    }
   },
   "outputs": [
    {
     "output_type": "display_data",
     "data": {
      "text/html": [
       "<style scoped>\n",
       "  .table-result-container {\n",
       "    max-height: 300px;\n",
       "    overflow: auto;\n",
       "  }\n",
       "  table, th, td {\n",
       "    border: 1px solid black;\n",
       "    border-collapse: collapse;\n",
       "  }\n",
       "  th, td {\n",
       "    padding: 5px;\n",
       "  }\n",
       "  th {\n",
       "    text-align: left;\n",
       "  }\n",
       "</style><div class='table-result-container'><table class='table-result'><thead style='background-color: white'><tr><th>country</th><th>category</th><th>category_count</th></tr></thead><tbody><tr><td>Algeria</td><td>quotes</td><td>20</td></tr><tr><td>Albania</td><td>art</td><td>15</td></tr><tr><td>Afghanistan</td><td>education</td><td>9</td></tr><tr><td>Argentina</td><td>tattoos</td><td>9</td></tr><tr><td>American Samoa</td><td>tattoos</td><td>8</td></tr><tr><td>Aruba</td><td>art</td><td>7</td></tr><tr><td>Andorra</td><td>tattoos</td><td>7</td></tr><tr><td>Bangladesh</td><td>christmas</td><td>5</td></tr><tr><td>Bulgaria</td><td>christmas</td><td>5</td></tr><tr><td>Antarctica (the territory South of 60 deg S)</td><td>tattoos</td><td>4</td></tr><tr><td>Armenia</td><td>art</td><td>4</td></tr><tr><td>Azerbaijan</td><td>finance</td><td>4</td></tr><tr><td>Belize</td><td>diy-and-crafts</td><td>4</td></tr><tr><td>Bermuda</td><td>christmas</td><td>4</td></tr><tr><td>Angola</td><td>education</td><td>4</td></tr><tr><td>Anguilla</td><td>diy-and-crafts</td><td>4</td></tr><tr><td>Bahamas</td><td>diy-and-crafts</td><td>3</td></tr><tr><td>Burkina Faso</td><td>quotes</td><td>3</td></tr><tr><td>Central African Republic</td><td>mens-fashion</td><td>3</td></tr><tr><td>Croatia</td><td>finance</td><td>3</td></tr><tr><td>Indonesia</td><td>finance</td><td>3</td></tr><tr><td>Lesotho</td><td>art</td><td>3</td></tr><tr><td>Saint Pierre and Miquelon</td><td>mens-fashion</td><td>3</td></tr><tr><td>Antigua and Barbuda</td><td>finance</td><td>3</td></tr><tr><td>Antigua and Barbuda</td><td>art</td><td>3</td></tr><tr><td>Antigua and Barbuda</td><td>christmas</td><td>3</td></tr><tr><td>Austria</td><td>travel</td><td>3</td></tr><tr><td>Austria</td><td>tattoos</td><td>3</td></tr><tr><td>Bahamas</td><td>event-planning</td><td>3</td></tr><tr><td>Bahamas</td><td>christmas</td><td>3</td></tr><tr><td>British Virgin Islands</td><td>christmas</td><td>3</td></tr><tr><td>Botswana</td><td>tattoos</td><td>2</td></tr><tr><td>Bouvet Island (Bouvetoya)</td><td>event-planning</td><td>2</td></tr><tr><td>Brazil</td><td>finance</td><td>2</td></tr><tr><td>Burundi</td><td>mens-fashion</td><td>2</td></tr><tr><td>Cambodia</td><td>beauty</td><td>2</td></tr><tr><td>Cameroon</td><td>christmas</td><td>2</td></tr><tr><td>Cameroon</td><td>travel</td><td>2</td></tr><tr><td>Christmas Island</td><td>travel</td><td>2</td></tr><tr><td>Cape Verde</td><td>diy-and-crafts</td><td>2</td></tr><tr><td>Cocos (Keeling) Islands</td><td>travel</td><td>2</td></tr><tr><td>Colombia</td><td>home-decor</td><td>2</td></tr><tr><td>Colombia</td><td>finance</td><td>2</td></tr><tr><td>Congo</td><td>finance</td><td>2</td></tr><tr><td>Congo</td><td>home-decor</td><td>2</td></tr><tr><td>Costa Rica</td><td>home-decor</td><td>2</td></tr><tr><td>Czech Republic</td><td>finance</td><td>2</td></tr><tr><td>Djibouti</td><td>diy-and-crafts</td><td>2</td></tr><tr><td>Australia</td><td>education</td><td>2</td></tr><tr><td>Bahrain</td><td>travel</td><td>2</td></tr><tr><td>Dominica</td><td>event-planning</td><td>2</td></tr><tr><td>Dominican Republic</td><td>home-decor</td><td>2</td></tr><tr><td>Ecuador</td><td>mens-fashion</td><td>2</td></tr><tr><td>Egypt</td><td>home-decor</td><td>2</td></tr><tr><td>Faroe Islands</td><td>event-planning</td><td>2</td></tr><tr><td>Fiji</td><td>mens-fashion</td><td>2</td></tr><tr><td>Bahrain</td><td>finance</td><td>2</td></tr><tr><td>Finland</td><td>beauty</td><td>2</td></tr><tr><td>France</td><td>beauty</td><td>2</td></tr><tr><td>Bahrain</td><td>art</td><td>2</td></tr><tr><td>Georgia</td><td>education</td><td>2</td></tr><tr><td>Greece</td><td>mens-fashion</td><td>2</td></tr><tr><td>Barbados</td><td>education</td><td>2</td></tr><tr><td>Guadeloupe</td><td>christmas</td><td>2</td></tr><tr><td>Guinea-Bissau</td><td>travel</td><td>2</td></tr><tr><td>Hungary</td><td>vehicles</td><td>2</td></tr><tr><td>Barbados</td><td>travel</td><td>2</td></tr><tr><td>Isle of Man</td><td>art</td><td>2</td></tr><tr><td>Korea</td><td>travel</td><td>2</td></tr><tr><td>Korea</td><td>mens-fashion</td><td>2</td></tr><tr><td>Belgium</td><td>christmas</td><td>2</td></tr><tr><td>Lebanon</td><td>quotes</td><td>2</td></tr><tr><td>Liechtenstein</td><td>mens-fashion</td><td>2</td></tr><tr><td>Benin</td><td>tattoos</td><td>2</td></tr><tr><td>Maldives</td><td>event-planning</td><td>2</td></tr><tr><td>Monaco</td><td>art</td><td>2</td></tr><tr><td>Netherlands</td><td>home-decor</td><td>2</td></tr><tr><td>Benin</td><td>travel</td><td>2</td></tr><tr><td>Nicaragua</td><td>mens-fashion</td><td>2</td></tr><tr><td>Bolivia</td><td>home-decor</td><td>2</td></tr><tr><td>Niue</td><td>quotes</td><td>2</td></tr><tr><td>Pitcairn Islands</td><td>diy-and-crafts</td><td>2</td></tr><tr><td>Australia</td><td>christmas</td><td>2</td></tr><tr><td>Turkey</td><td>education</td><td>2</td></tr><tr><td>Uganda</td><td>christmas</td><td>2</td></tr><tr><td>Australia</td><td>mens-fashion</td><td>2</td></tr><tr><td>Bolivia</td><td>beauty</td><td>2</td></tr><tr><td>United States Virgin Islands</td><td>quotes</td><td>2</td></tr><tr><td>Bosnia and Herzegovina</td><td>christmas</td><td>2</td></tr><tr><td>Belarus</td><td>travel</td><td>2</td></tr><tr><td>Bhutan</td><td>event-planning</td><td>2</td></tr><tr><td>Bouvet Island (Bouvetoya)</td><td>tattoos</td><td>2</td></tr><tr><td>British Indian Ocean Territory (Chagos Archipelago)</td><td>tattoos</td><td>1</td></tr><tr><td>British Indian Ocean Territory (Chagos Archipelago)</td><td>mens-fashion</td><td>1</td></tr><tr><td>Brunei Darussalam</td><td>finance</td><td>1</td></tr><tr><td>Denmark</td><td>mens-fashion</td><td>1</td></tr><tr><td>British Indian Ocean Territory (Chagos Archipelago)</td><td>finance</td><td>1</td></tr><tr><td>Brunei Darussalam</td><td>education</td><td>1</td></tr><tr><td>Comoros</td><td>education</td><td>1</td></tr><tr><td>Denmark</td><td>beauty</td><td>1</td></tr><tr><td>French Guiana</td><td>quotes</td><td>1</td></tr><tr><td>Gibraltar</td><td>vehicles</td><td>1</td></tr><tr><td>Guinea</td><td>vehicles</td><td>1</td></tr><tr><td>Brunei Darussalam</td><td>diy-and-crafts</td><td>1</td></tr><tr><td>Cayman Islands</td><td>travel</td><td>1</td></tr><tr><td>Comoros</td><td>quotes</td><td>1</td></tr><tr><td>Cote d'Ivoire</td><td>travel</td><td>1</td></tr><tr><td>El Salvador</td><td>quotes</td><td>1</td></tr><tr><td>Estonia</td><td>christmas</td><td>1</td></tr><tr><td>French Guiana</td><td>diy-and-crafts</td><td>1</td></tr><tr><td>French Southern Territories</td><td>home-decor</td><td>1</td></tr><tr><td>Gibraltar</td><td>art</td><td>1</td></tr><tr><td>Guatemala</td><td>mens-fashion</td><td>1</td></tr><tr><td>Guinea</td><td>diy-and-crafts</td><td>1</td></tr><tr><td>Heard Island and McDonald Islands</td><td>travel</td><td>1</td></tr><tr><td>Canada</td><td>mens-fashion</td><td>1</td></tr><tr><td>Canada</td><td>travel</td><td>1</td></tr><tr><td>Chad</td><td>diy-and-crafts</td><td>1</td></tr><tr><td>Chile</td><td>quotes</td><td>1</td></tr><tr><td>Comoros</td><td>event-planning</td><td>1</td></tr><tr><td>Cote d'Ivoire</td><td>finance</td><td>1</td></tr><tr><td>Cuba</td><td>mens-fashion</td><td>1</td></tr><tr><td>Cuba</td><td>diy-and-crafts</td><td>1</td></tr><tr><td>El Salvador</td><td>beauty</td><td>1</td></tr><tr><td>El Salvador</td><td>event-planning</td><td>1</td></tr><tr><td>Estonia</td><td>vehicles</td><td>1</td></tr><tr><td>Ethiopia</td><td>tattoos</td><td>1</td></tr><tr><td>French Guiana</td><td>education</td><td>1</td></tr><tr><td>French Polynesia</td><td>event-planning</td><td>1</td></tr><tr><td>Gabon</td><td>education</td><td>1</td></tr><tr><td>Germany</td><td>finance</td><td>1</td></tr><tr><td>Greenland</td><td>education</td><td>1</td></tr><tr><td>Grenada</td><td>finance</td><td>1</td></tr><tr><td>Guatemala</td><td>art</td><td>1</td></tr><tr><td>Guernsey</td><td>tattoos</td><td>1</td></tr><tr><td>Guyana</td><td>tattoos</td><td>1</td></tr><tr><td>Haiti</td><td>home-decor</td><td>1</td></tr><tr><td>Heard Island and McDonald Islands</td><td>quotes</td><td>1</td></tr><tr><td>Honduras</td><td>beauty</td><td>1</td></tr><tr><td>India</td><td>travel</td><td>1</td></tr><tr><td>India</td><td>diy-and-crafts</td><td>1</td></tr><tr><td>Canada</td><td>christmas</td><td>1</td></tr><tr><td>Canada</td><td>tattoos</td><td>1</td></tr><tr><td>Jamaica</td><td>education</td><td>1</td></tr><tr><td>Chad</td><td>mens-fashion</td><td>1</td></tr><tr><td>Chile</td><td>travel</td><td>1</td></tr><tr><td>China</td><td>quotes</td><td>1</td></tr><tr><td>Latvia</td><td>home-decor</td><td>1</td></tr><tr><td>Cook Islands</td><td>travel</td><td>1</td></tr><tr><td>Cote d'Ivoire</td><td>beauty</td><td>1</td></tr><tr><td>Cote d'Ivoire</td><td>education</td><td>1</td></tr><tr><td>Madagascar</td><td>event-planning</td><td>1</td></tr><tr><td>Cuba</td><td>vehicles</td><td>1</td></tr><tr><td>Cyprus</td><td>home-decor</td><td>1</td></tr><tr><td>Cyprus</td><td>vehicles</td><td>1</td></tr><tr><td>Mexico</td><td>home-decor</td><td>1</td></tr><tr><td>Moldova</td><td>home-decor</td><td>1</td></tr><tr><td>Equatorial Guinea</td><td>travel</td><td>1</td></tr><tr><td>Equatorial Guinea</td><td>mens-fashion</td><td>1</td></tr><tr><td>Namibia</td><td>quotes</td><td>1</td></tr><tr><td>Ethiopia</td><td>finance</td><td>1</td></tr><tr><td>Falkland Islands (Malvinas)</td><td>christmas</td><td>1</td></tr><tr><td>Falkland Islands (Malvinas)</td><td>education</td><td>1</td></tr><tr><td>Nigeria</td><td>mens-fashion</td><td>1</td></tr><tr><td>French Polynesia</td><td>quotes</td><td>1</td></tr><tr><td>French Polynesia</td><td>diy-and-crafts</td><td>1</td></tr><tr><td>French Southern Territories</td><td>art</td><td>1</td></tr><tr><td>Peru</td><td>art</td><td>1</td></tr><tr><td>Gabon</td><td>travel</td><td>1</td></tr><tr><td>Germany</td><td>event-planning</td><td>1</td></tr><tr><td>Ghana</td><td>beauty</td><td>1</td></tr><tr><td>Rwanda</td><td>travel</td><td>1</td></tr><tr><td>Grenada</td><td>vehicles</td><td>1</td></tr><tr><td>Grenada</td><td>quotes</td><td>1</td></tr><tr><td>Guam</td><td>travel</td><td>1</td></tr><tr><td>Saudi Arabia</td><td>finance</td><td>1</td></tr><tr><td>Guatemala</td><td>diy-and-crafts</td><td>1</td></tr><tr><td>Guernsey</td><td>mens-fashion</td><td>1</td></tr><tr><td>Guernsey</td><td>home-decor</td><td>1</td></tr><tr><td>Somalia</td><td>event-planning</td><td>1</td></tr><tr><td>Guyana</td><td>home-decor</td><td>1</td></tr><tr><td>Haiti</td><td>christmas</td><td>1</td></tr><tr><td>Haiti</td><td>finance</td><td>1</td></tr><tr><td>Togo</td><td>christmas</td><td>1</td></tr><tr><td>Holy See (Vatican City State)</td><td>mens-fashion</td><td>1</td></tr><tr><td>Hong Kong</td><td>home-decor</td><td>1</td></tr><tr><td>Hong Kong</td><td>event-planning</td><td>1</td></tr><tr><td>India</td><td>art</td><td>1</td></tr><tr><td>India</td><td>event-planning</td><td>1</td></tr><tr><td>Iran</td><td>tattoos</td><td>1</td></tr><tr><td>Iran</td><td>christmas</td><td>1</td></tr><tr><td>Iran</td><td>art</td><td>1</td></tr><tr><td>Ireland</td><td>home-decor</td><td>1</td></tr><tr><td>Israel</td><td>art</td><td>1</td></tr><tr><td>Canada</td><td>art</td><td>1</td></tr><tr><td>Jamaica</td><td>finance</td><td>1</td></tr><tr><td>Japan</td><td>art</td><td>1</td></tr><tr><td>Kazakhstan</td><td>tattoos</td><td>1</td></tr><tr><td>Chad</td><td>finance</td><td>1</td></tr><tr><td>Kiribati</td><td>beauty</td><td>1</td></tr><tr><td>Kuwait</td><td>quotes</td><td>1</td></tr><tr><td>Kuwait</td><td>christmas</td><td>1</td></tr><tr><td>China</td><td>beauty</td><td>1</td></tr><tr><td>Latvia</td><td>beauty</td><td>1</td></tr><tr><td>Latvia</td><td>mens-fashion</td><td>1</td></tr><tr><td>Libyan Arab Jamahiriya</td><td>christmas</td><td>1</td></tr><tr><td>Lithuania</td><td>diy-and-crafts</td><td>1</td></tr><tr><td>Lithuania</td><td>education</td><td>1</td></tr><tr><td>Macao</td><td>mens-fashion</td><td>1</td></tr><tr><td>Macao</td><td>education</td><td>1</td></tr><tr><td>Cote d'Ivoire</td><td>diy-and-crafts</td><td>1</td></tr><tr><td>Madagascar</td><td>quotes</td><td>1</td></tr><tr><td>Malawi</td><td>travel</td><td>1</td></tr><tr><td>Mali</td><td>christmas</td><td>1</td></tr><tr><td>Cuba</td><td>home-decor</td><td>1</td></tr><tr><td>Marshall Islands</td><td>home-decor</td><td>1</td></tr><tr><td>Martinique</td><td>quotes</td><td>1</td></tr><tr><td>Mauritania</td><td>christmas</td><td>1</td></tr><tr><td>Cyprus</td><td>travel</td><td>1</td></tr><tr><td>Mexico</td><td>vehicles</td><td>1</td></tr><tr><td>Micronesia</td><td>travel</td><td>1</td></tr><tr><td>Mongolia</td><td>mens-fashion</td><td>1</td></tr><tr><td>Mongolia</td><td>tattoos</td><td>1</td></tr><tr><td>Montserrat</td><td>art</td><td>1</td></tr><tr><td>Montserrat</td><td>tattoos</td><td>1</td></tr><tr><td>Mozambique</td><td>home-decor</td><td>1</td></tr><tr><td>Eritrea</td><td>art</td><td>1</td></tr><tr><td>Namibia</td><td>vehicles</td><td>1</td></tr><tr><td>Namibia</td><td>event-planning</td><td>1</td></tr><tr><td>Nauru</td><td>travel</td><td>1</td></tr><tr><td>Ethiopia</td><td>travel</td><td>1</td></tr><tr><td>New Caledonia</td><td>mens-fashion</td><td>1</td></tr><tr><td>New Caledonia</td><td>travel</td><td>1</td></tr><tr><td>Niger</td><td>education</td><td>1</td></tr><tr><td>French Guiana</td><td>art</td><td>1</td></tr><tr><td>Norfolk Island</td><td>mens-fashion</td><td>1</td></tr><tr><td>Norfolk Island</td><td>event-planning</td><td>1</td></tr><tr><td>Norway</td><td>travel</td><td>1</td></tr><tr><td>Palestinian Territory</td><td>vehicles</td><td>1</td></tr><tr><td>Palestinian Territory</td><td>quotes</td><td>1</td></tr><tr><td>Panama</td><td>vehicles</td><td>1</td></tr><tr><td>Panama</td><td>travel</td><td>1</td></tr><tr><td>French Southern Territories</td><td>travel</td><td>1</td></tr><tr><td>Peru</td><td>tattoos</td><td>1</td></tr><tr><td>Peru</td><td>vehicles</td><td>1</td></tr><tr><td>Philippines</td><td>event-planning</td><td>1</td></tr><tr><td>Gabon</td><td>home-decor</td><td>1</td></tr><tr><td>Puerto Rico</td><td>event-planning</td><td>1</td></tr><tr><td>Qatar</td><td>finance</td><td>1</td></tr><tr><td>Romania</td><td>tattoos</td><td>1</td></tr><tr><td>Ghana</td><td>art</td><td>1</td></tr><tr><td>Saint Barthelemy</td><td>mens-fashion</td><td>1</td></tr><tr><td>Saint Barthelemy</td><td>education</td><td>1</td></tr><tr><td>Saint Helena</td><td>beauty</td><td>1</td></tr><tr><td>Saint Kitts and Nevis</td><td>event-planning</td><td>1</td></tr><tr><td>Saint Martin</td><td>quotes</td><td>1</td></tr><tr><td>Saint Vincent and the Grenadines</td><td>christmas</td><td>1</td></tr><tr><td>Samoa</td><td>vehicles</td><td>1</td></tr><tr><td>Guatemala</td><td>finance</td><td>1</td></tr><tr><td>Saudi Arabia</td><td>beauty</td><td>1</td></tr><tr><td>Serbia</td><td>travel</td><td>1</td></tr><tr><td>Seychelles</td><td>beauty</td><td>1</td></tr><tr><td>Guatemala</td><td>christmas</td><td>1</td></tr><tr><td>Singapore</td><td>travel</td><td>1</td></tr><tr><td>Slovakia (Slovak Republic)</td><td>finance</td><td>1</td></tr><tr><td>Solomon Islands</td><td>mens-fashion</td><td>1</td></tr><tr><td>Guinea</td><td>christmas</td><td>1</td></tr><tr><td>Somalia</td><td>travel</td><td>1</td></tr><tr><td>South Africa</td><td>vehicles</td><td>1</td></tr><tr><td>Sudan</td><td>art</td><td>1</td></tr><tr><td>Sudan</td><td>mens-fashion</td><td>1</td></tr><tr><td>Svalbard & Jan Mayen Islands</td><td>beauty</td><td>1</td></tr><tr><td>Sweden</td><td>mens-fashion</td><td>1</td></tr><tr><td>Switzerland</td><td>quotes</td><td>1</td></tr><tr><td>Heard Island and McDonald Islands</td><td>mens-fashion</td><td>1</td></tr><tr><td>Tokelau</td><td>beauty</td><td>1</td></tr><tr><td>Tonga</td><td>beauty</td><td>1</td></tr><tr><td>Tunisia</td><td>diy-and-crafts</td><td>1</td></tr><tr><td>Honduras</td><td>event-planning</td><td>1</td></tr><tr><td>Turks and Caicos Islands</td><td>event-planning</td><td>1</td></tr><tr><td>Tuvalu</td><td>tattoos</td><td>1</td></tr><tr><td>United States of America</td><td>tattoos</td><td>1</td></tr><tr><td>Iceland</td><td>diy-and-crafts</td><td>1</td></tr><tr><td>Venezuela</td><td>event-planning</td><td>1</td></tr><tr><td>Wallis and Futuna</td><td>home-decor</td><td>1</td></tr><tr><td>Yemen</td><td>home-decor</td><td>1</td></tr><tr><td>India</td><td>beauty</td><td>1</td></tr><tr><td>Iran</td><td>mens-fashion</td><td>1</td></tr><tr><td>Ireland</td><td>mens-fashion</td><td>1</td></tr><tr><td>Ireland</td><td>tattoos</td><td>1</td></tr><tr><td>Israel</td><td>quotes</td><td>1</td></tr><tr><td>Italy</td><td>beauty</td><td>1</td></tr><tr><td>Jamaica</td><td>vehicles</td><td>1</td></tr><tr><td>Japan</td><td>mens-fashion</td><td>1</td></tr><tr><td>Kenya</td><td>diy-and-crafts</td><td>1</td></tr><tr><td>Kenya</td><td>mens-fashion</td><td>1</td></tr><tr><td>Kenya</td><td>home-decor</td><td>1</td></tr><tr><td>Kiribati</td><td>christmas</td><td>1</td></tr><tr><td>Kuwait</td><td>diy-and-crafts</td><td>1</td></tr><tr><td>Kyrgyz Republic</td><td>vehicles</td><td>1</td></tr><tr><td>Kyrgyz Republic</td><td>education</td><td>1</td></tr><tr><td>Lao People's Democratic Republic</td><td>quotes</td><td>1</td></tr><tr><td>Liberia</td><td>christmas</td><td>1</td></tr><tr><td>Libyan Arab Jamahiriya</td><td>beauty</td><td>1</td></tr><tr><td>Lithuania</td><td>tattoos</td><td>1</td></tr><tr><td>Luxembourg</td><td>education</td><td>1</td></tr><tr><td>Macao</td><td>vehicles</td><td>1</td></tr><tr><td>Macao</td><td>quotes</td><td>1</td></tr><tr><td>Macedonia</td><td>tattoos</td><td>1</td></tr><tr><td>Madagascar</td><td>mens-fashion</td><td>1</td></tr><tr><td>Malawi</td><td>vehicles</td><td>1</td></tr><tr><td>Malta</td><td>art</td><td>1</td></tr><tr><td>Malta</td><td>christmas</td><td>1</td></tr><tr><td>Malta</td><td>beauty</td><td>1</td></tr><tr><td>Marshall Islands</td><td>travel</td><td>1</td></tr><tr><td>Martinique</td><td>event-planning</td><td>1</td></tr><tr><td>Mauritania</td><td>education</td><td>1</td></tr><tr><td>Mauritius</td><td>mens-fashion</td><td>1</td></tr><tr><td>Mayotte</td><td>christmas</td><td>1</td></tr><tr><td>Moldova</td><td>beauty</td><td>1</td></tr><tr><td>Montserrat</td><td>education</td><td>1</td></tr><tr><td>Montserrat</td><td>event-planning</td><td>1</td></tr><tr><td>Morocco</td><td>quotes</td><td>1</td></tr><tr><td>Mozambique</td><td>art</td><td>1</td></tr><tr><td>Mozambique</td><td>mens-fashion</td><td>1</td></tr><tr><td>Myanmar</td><td>christmas</td><td>1</td></tr><tr><td>Nauru</td><td>mens-fashion</td><td>1</td></tr><tr><td>Nauru</td><td>beauty</td><td>1</td></tr><tr><td>Netherlands Antilles</td><td>beauty</td><td>1</td></tr><tr><td>Netherlands Antilles</td><td>art</td><td>1</td></tr><tr><td>New Caledonia</td><td>art</td><td>1</td></tr><tr><td>New Zealand</td><td>tattoos</td><td>1</td></tr><tr><td>Niger</td><td>art</td><td>1</td></tr><tr><td>Niger</td><td>beauty</td><td>1</td></tr><tr><td>Nigeria</td><td>christmas</td><td>1</td></tr><tr><td>Norfolk Island</td><td>beauty</td><td>1</td></tr><tr><td>Oman</td><td>beauty</td><td>1</td></tr><tr><td>Palestinian Territory</td><td>art</td><td>1</td></tr><tr><td>Panama</td><td>event-planning</td><td>1</td></tr><tr><td>Panama</td><td>beauty</td><td>1</td></tr><tr><td>Papua New Guinea</td><td>quotes</td><td>1</td></tr><tr><td>Papua New Guinea</td><td>event-planning</td><td>1</td></tr><tr><td>Paraguay</td><td>vehicles</td><td>1</td></tr><tr><td>Philippines</td><td>vehicles</td><td>1</td></tr><tr><td>Poland</td><td>event-planning</td><td>1</td></tr><tr><td>Portugal</td><td>diy-and-crafts</td><td>1</td></tr><tr><td>Puerto Rico</td><td>christmas</td><td>1</td></tr><tr><td>Qatar</td><td>christmas</td><td>1</td></tr><tr><td>Qatar</td><td>beauty</td><td>1</td></tr><tr><td>Romania</td><td>art</td><td>1</td></tr><tr><td>Romania</td><td>quotes</td><td>1</td></tr><tr><td>Romania</td><td>vehicles</td><td>1</td></tr><tr><td>Saint Helena</td><td>art</td><td>1</td></tr><tr><td>Saint Kitts and Nevis</td><td>home-decor</td><td>1</td></tr><tr><td>Saint Kitts and Nevis</td><td>vehicles</td><td>1</td></tr><tr><td>Saint Martin</td><td>christmas</td><td>1</td></tr><tr><td>Saint Vincent and the Grenadines</td><td>quotes</td><td>1</td></tr><tr><td>Samoa</td><td>diy-and-crafts</td><td>1</td></tr><tr><td>Sao Tome and Principe</td><td>tattoos</td><td>1</td></tr><tr><td>Sao Tome and Principe</td><td>finance</td><td>1</td></tr><tr><td>Seychelles</td><td>tattoos</td><td>1</td></tr><tr><td>Singapore</td><td>vehicles</td><td>1</td></tr><tr><td>Singapore</td><td>mens-fashion</td><td>1</td></tr><tr><td>Singapore</td><td>education</td><td>1</td></tr><tr><td>Slovakia (Slovak Republic)</td><td>vehicles</td><td>1</td></tr><tr><td>Slovenia</td><td>beauty</td><td>1</td></tr><tr><td>Solomon Islands</td><td>art</td><td>1</td></tr><tr><td>Solomon Islands</td><td>vehicles</td><td>1</td></tr><tr><td>Somalia</td><td>quotes</td><td>1</td></tr><tr><td>South Georgia and the South Sandwich Islands</td><td>vehicles</td><td>1</td></tr><tr><td>Sudan</td><td>education</td><td>1</td></tr><tr><td>Svalbard & Jan Mayen Islands</td><td>travel</td><td>1</td></tr><tr><td>Swaziland</td><td>travel</td><td>1</td></tr><tr><td>Sweden</td><td>diy-and-crafts</td><td>1</td></tr><tr><td>Tajikistan</td><td>beauty</td><td>1</td></tr><tr><td>Tajikistan</td><td>travel</td><td>1</td></tr><tr><td>Tanzania</td><td>art</td><td>1</td></tr><tr><td>Trinidad and Tobago</td><td>christmas</td><td>1</td></tr><tr><td>Tunisia</td><td>travel</td><td>1</td></tr><tr><td>Turkmenistan</td><td>event-planning</td><td>1</td></tr><tr><td>Turkmenistan</td><td>travel</td><td>1</td></tr><tr><td>Turks and Caicos Islands</td><td>tattoos</td><td>1</td></tr><tr><td>United States of America</td><td>education</td><td>1</td></tr><tr><td>United States of America</td><td>quotes</td><td>1</td></tr><tr><td>Venezuela</td><td>diy-and-crafts</td><td>1</td></tr><tr><td>Venezuela</td><td>quotes</td><td>1</td></tr><tr><td>Vietnam</td><td>quotes</td><td>1</td></tr><tr><td>Yemen</td><td>christmas</td><td>1</td></tr></tbody></table></div>"
      ]
     },
     "metadata": {
      "application/vnd.databricks.v1+output": {
       "addedWidgets": {},
       "aggData": [],
       "aggError": "",
       "aggOverflow": false,
       "aggSchema": [],
       "aggSeriesLimitReached": false,
       "aggType": "",
       "arguments": {},
       "columnCustomDisplayInfos": {},
       "data": [
        [
         "Algeria",
         "quotes",
         20
        ],
        [
         "Albania",
         "art",
         15
        ],
        [
         "Afghanistan",
         "education",
         9
        ],
        [
         "Argentina",
         "tattoos",
         9
        ],
        [
         "American Samoa",
         "tattoos",
         8
        ],
        [
         "Aruba",
         "art",
         7
        ],
        [
         "Andorra",
         "tattoos",
         7
        ],
        [
         "Bangladesh",
         "christmas",
         5
        ],
        [
         "Bulgaria",
         "christmas",
         5
        ],
        [
         "Antarctica (the territory South of 60 deg S)",
         "tattoos",
         4
        ],
        [
         "Armenia",
         "art",
         4
        ],
        [
         "Azerbaijan",
         "finance",
         4
        ],
        [
         "Belize",
         "diy-and-crafts",
         4
        ],
        [
         "Bermuda",
         "christmas",
         4
        ],
        [
         "Angola",
         "education",
         4
        ],
        [
         "Anguilla",
         "diy-and-crafts",
         4
        ],
        [
         "Bahamas",
         "diy-and-crafts",
         3
        ],
        [
         "Burkina Faso",
         "quotes",
         3
        ],
        [
         "Central African Republic",
         "mens-fashion",
         3
        ],
        [
         "Croatia",
         "finance",
         3
        ],
        [
         "Indonesia",
         "finance",
         3
        ],
        [
         "Lesotho",
         "art",
         3
        ],
        [
         "Saint Pierre and Miquelon",
         "mens-fashion",
         3
        ],
        [
         "Antigua and Barbuda",
         "finance",
         3
        ],
        [
         "Antigua and Barbuda",
         "art",
         3
        ],
        [
         "Antigua and Barbuda",
         "christmas",
         3
        ],
        [
         "Austria",
         "travel",
         3
        ],
        [
         "Austria",
         "tattoos",
         3
        ],
        [
         "Bahamas",
         "event-planning",
         3
        ],
        [
         "Bahamas",
         "christmas",
         3
        ],
        [
         "British Virgin Islands",
         "christmas",
         3
        ],
        [
         "Botswana",
         "tattoos",
         2
        ],
        [
         "Bouvet Island (Bouvetoya)",
         "event-planning",
         2
        ],
        [
         "Brazil",
         "finance",
         2
        ],
        [
         "Burundi",
         "mens-fashion",
         2
        ],
        [
         "Cambodia",
         "beauty",
         2
        ],
        [
         "Cameroon",
         "christmas",
         2
        ],
        [
         "Cameroon",
         "travel",
         2
        ],
        [
         "Christmas Island",
         "travel",
         2
        ],
        [
         "Cape Verde",
         "diy-and-crafts",
         2
        ],
        [
         "Cocos (Keeling) Islands",
         "travel",
         2
        ],
        [
         "Colombia",
         "home-decor",
         2
        ],
        [
         "Colombia",
         "finance",
         2
        ],
        [
         "Congo",
         "finance",
         2
        ],
        [
         "Congo",
         "home-decor",
         2
        ],
        [
         "Costa Rica",
         "home-decor",
         2
        ],
        [
         "Czech Republic",
         "finance",
         2
        ],
        [
         "Djibouti",
         "diy-and-crafts",
         2
        ],
        [
         "Australia",
         "education",
         2
        ],
        [
         "Bahrain",
         "travel",
         2
        ],
        [
         "Dominica",
         "event-planning",
         2
        ],
        [
         "Dominican Republic",
         "home-decor",
         2
        ],
        [
         "Ecuador",
         "mens-fashion",
         2
        ],
        [
         "Egypt",
         "home-decor",
         2
        ],
        [
         "Faroe Islands",
         "event-planning",
         2
        ],
        [
         "Fiji",
         "mens-fashion",
         2
        ],
        [
         "Bahrain",
         "finance",
         2
        ],
        [
         "Finland",
         "beauty",
         2
        ],
        [
         "France",
         "beauty",
         2
        ],
        [
         "Bahrain",
         "art",
         2
        ],
        [
         "Georgia",
         "education",
         2
        ],
        [
         "Greece",
         "mens-fashion",
         2
        ],
        [
         "Barbados",
         "education",
         2
        ],
        [
         "Guadeloupe",
         "christmas",
         2
        ],
        [
         "Guinea-Bissau",
         "travel",
         2
        ],
        [
         "Hungary",
         "vehicles",
         2
        ],
        [
         "Barbados",
         "travel",
         2
        ],
        [
         "Isle of Man",
         "art",
         2
        ],
        [
         "Korea",
         "travel",
         2
        ],
        [
         "Korea",
         "mens-fashion",
         2
        ],
        [
         "Belgium",
         "christmas",
         2
        ],
        [
         "Lebanon",
         "quotes",
         2
        ],
        [
         "Liechtenstein",
         "mens-fashion",
         2
        ],
        [
         "Benin",
         "tattoos",
         2
        ],
        [
         "Maldives",
         "event-planning",
         2
        ],
        [
         "Monaco",
         "art",
         2
        ],
        [
         "Netherlands",
         "home-decor",
         2
        ],
        [
         "Benin",
         "travel",
         2
        ],
        [
         "Nicaragua",
         "mens-fashion",
         2
        ],
        [
         "Bolivia",
         "home-decor",
         2
        ],
        [
         "Niue",
         "quotes",
         2
        ],
        [
         "Pitcairn Islands",
         "diy-and-crafts",
         2
        ],
        [
         "Australia",
         "christmas",
         2
        ],
        [
         "Turkey",
         "education",
         2
        ],
        [
         "Uganda",
         "christmas",
         2
        ],
        [
         "Australia",
         "mens-fashion",
         2
        ],
        [
         "Bolivia",
         "beauty",
         2
        ],
        [
         "United States Virgin Islands",
         "quotes",
         2
        ],
        [
         "Bosnia and Herzegovina",
         "christmas",
         2
        ],
        [
         "Belarus",
         "travel",
         2
        ],
        [
         "Bhutan",
         "event-planning",
         2
        ],
        [
         "Bouvet Island (Bouvetoya)",
         "tattoos",
         2
        ],
        [
         "British Indian Ocean Territory (Chagos Archipelago)",
         "tattoos",
         1
        ],
        [
         "British Indian Ocean Territory (Chagos Archipelago)",
         "mens-fashion",
         1
        ],
        [
         "Brunei Darussalam",
         "finance",
         1
        ],
        [
         "Denmark",
         "mens-fashion",
         1
        ],
        [
         "British Indian Ocean Territory (Chagos Archipelago)",
         "finance",
         1
        ],
        [
         "Brunei Darussalam",
         "education",
         1
        ],
        [
         "Comoros",
         "education",
         1
        ],
        [
         "Denmark",
         "beauty",
         1
        ],
        [
         "French Guiana",
         "quotes",
         1
        ],
        [
         "Gibraltar",
         "vehicles",
         1
        ],
        [
         "Guinea",
         "vehicles",
         1
        ],
        [
         "Brunei Darussalam",
         "diy-and-crafts",
         1
        ],
        [
         "Cayman Islands",
         "travel",
         1
        ],
        [
         "Comoros",
         "quotes",
         1
        ],
        [
         "Cote d'Ivoire",
         "travel",
         1
        ],
        [
         "El Salvador",
         "quotes",
         1
        ],
        [
         "Estonia",
         "christmas",
         1
        ],
        [
         "French Guiana",
         "diy-and-crafts",
         1
        ],
        [
         "French Southern Territories",
         "home-decor",
         1
        ],
        [
         "Gibraltar",
         "art",
         1
        ],
        [
         "Guatemala",
         "mens-fashion",
         1
        ],
        [
         "Guinea",
         "diy-and-crafts",
         1
        ],
        [
         "Heard Island and McDonald Islands",
         "travel",
         1
        ],
        [
         "Canada",
         "mens-fashion",
         1
        ],
        [
         "Canada",
         "travel",
         1
        ],
        [
         "Chad",
         "diy-and-crafts",
         1
        ],
        [
         "Chile",
         "quotes",
         1
        ],
        [
         "Comoros",
         "event-planning",
         1
        ],
        [
         "Cote d'Ivoire",
         "finance",
         1
        ],
        [
         "Cuba",
         "mens-fashion",
         1
        ],
        [
         "Cuba",
         "diy-and-crafts",
         1
        ],
        [
         "El Salvador",
         "beauty",
         1
        ],
        [
         "El Salvador",
         "event-planning",
         1
        ],
        [
         "Estonia",
         "vehicles",
         1
        ],
        [
         "Ethiopia",
         "tattoos",
         1
        ],
        [
         "French Guiana",
         "education",
         1
        ],
        [
         "French Polynesia",
         "event-planning",
         1
        ],
        [
         "Gabon",
         "education",
         1
        ],
        [
         "Germany",
         "finance",
         1
        ],
        [
         "Greenland",
         "education",
         1
        ],
        [
         "Grenada",
         "finance",
         1
        ],
        [
         "Guatemala",
         "art",
         1
        ],
        [
         "Guernsey",
         "tattoos",
         1
        ],
        [
         "Guyana",
         "tattoos",
         1
        ],
        [
         "Haiti",
         "home-decor",
         1
        ],
        [
         "Heard Island and McDonald Islands",
         "quotes",
         1
        ],
        [
         "Honduras",
         "beauty",
         1
        ],
        [
         "India",
         "travel",
         1
        ],
        [
         "India",
         "diy-and-crafts",
         1
        ],
        [
         "Canada",
         "christmas",
         1
        ],
        [
         "Canada",
         "tattoos",
         1
        ],
        [
         "Jamaica",
         "education",
         1
        ],
        [
         "Chad",
         "mens-fashion",
         1
        ],
        [
         "Chile",
         "travel",
         1
        ],
        [
         "China",
         "quotes",
         1
        ],
        [
         "Latvia",
         "home-decor",
         1
        ],
        [
         "Cook Islands",
         "travel",
         1
        ],
        [
         "Cote d'Ivoire",
         "beauty",
         1
        ],
        [
         "Cote d'Ivoire",
         "education",
         1
        ],
        [
         "Madagascar",
         "event-planning",
         1
        ],
        [
         "Cuba",
         "vehicles",
         1
        ],
        [
         "Cyprus",
         "home-decor",
         1
        ],
        [
         "Cyprus",
         "vehicles",
         1
        ],
        [
         "Mexico",
         "home-decor",
         1
        ],
        [
         "Moldova",
         "home-decor",
         1
        ],
        [
         "Equatorial Guinea",
         "travel",
         1
        ],
        [
         "Equatorial Guinea",
         "mens-fashion",
         1
        ],
        [
         "Namibia",
         "quotes",
         1
        ],
        [
         "Ethiopia",
         "finance",
         1
        ],
        [
         "Falkland Islands (Malvinas)",
         "christmas",
         1
        ],
        [
         "Falkland Islands (Malvinas)",
         "education",
         1
        ],
        [
         "Nigeria",
         "mens-fashion",
         1
        ],
        [
         "French Polynesia",
         "quotes",
         1
        ],
        [
         "French Polynesia",
         "diy-and-crafts",
         1
        ],
        [
         "French Southern Territories",
         "art",
         1
        ],
        [
         "Peru",
         "art",
         1
        ],
        [
         "Gabon",
         "travel",
         1
        ],
        [
         "Germany",
         "event-planning",
         1
        ],
        [
         "Ghana",
         "beauty",
         1
        ],
        [
         "Rwanda",
         "travel",
         1
        ],
        [
         "Grenada",
         "vehicles",
         1
        ],
        [
         "Grenada",
         "quotes",
         1
        ],
        [
         "Guam",
         "travel",
         1
        ],
        [
         "Saudi Arabia",
         "finance",
         1
        ],
        [
         "Guatemala",
         "diy-and-crafts",
         1
        ],
        [
         "Guernsey",
         "mens-fashion",
         1
        ],
        [
         "Guernsey",
         "home-decor",
         1
        ],
        [
         "Somalia",
         "event-planning",
         1
        ],
        [
         "Guyana",
         "home-decor",
         1
        ],
        [
         "Haiti",
         "christmas",
         1
        ],
        [
         "Haiti",
         "finance",
         1
        ],
        [
         "Togo",
         "christmas",
         1
        ],
        [
         "Holy See (Vatican City State)",
         "mens-fashion",
         1
        ],
        [
         "Hong Kong",
         "home-decor",
         1
        ],
        [
         "Hong Kong",
         "event-planning",
         1
        ],
        [
         "India",
         "art",
         1
        ],
        [
         "India",
         "event-planning",
         1
        ],
        [
         "Iran",
         "tattoos",
         1
        ],
        [
         "Iran",
         "christmas",
         1
        ],
        [
         "Iran",
         "art",
         1
        ],
        [
         "Ireland",
         "home-decor",
         1
        ],
        [
         "Israel",
         "art",
         1
        ],
        [
         "Canada",
         "art",
         1
        ],
        [
         "Jamaica",
         "finance",
         1
        ],
        [
         "Japan",
         "art",
         1
        ],
        [
         "Kazakhstan",
         "tattoos",
         1
        ],
        [
         "Chad",
         "finance",
         1
        ],
        [
         "Kiribati",
         "beauty",
         1
        ],
        [
         "Kuwait",
         "quotes",
         1
        ],
        [
         "Kuwait",
         "christmas",
         1
        ],
        [
         "China",
         "beauty",
         1
        ],
        [
         "Latvia",
         "beauty",
         1
        ],
        [
         "Latvia",
         "mens-fashion",
         1
        ],
        [
         "Libyan Arab Jamahiriya",
         "christmas",
         1
        ],
        [
         "Lithuania",
         "diy-and-crafts",
         1
        ],
        [
         "Lithuania",
         "education",
         1
        ],
        [
         "Macao",
         "mens-fashion",
         1
        ],
        [
         "Macao",
         "education",
         1
        ],
        [
         "Cote d'Ivoire",
         "diy-and-crafts",
         1
        ],
        [
         "Madagascar",
         "quotes",
         1
        ],
        [
         "Malawi",
         "travel",
         1
        ],
        [
         "Mali",
         "christmas",
         1
        ],
        [
         "Cuba",
         "home-decor",
         1
        ],
        [
         "Marshall Islands",
         "home-decor",
         1
        ],
        [
         "Martinique",
         "quotes",
         1
        ],
        [
         "Mauritania",
         "christmas",
         1
        ],
        [
         "Cyprus",
         "travel",
         1
        ],
        [
         "Mexico",
         "vehicles",
         1
        ],
        [
         "Micronesia",
         "travel",
         1
        ],
        [
         "Mongolia",
         "mens-fashion",
         1
        ],
        [
         "Mongolia",
         "tattoos",
         1
        ],
        [
         "Montserrat",
         "art",
         1
        ],
        [
         "Montserrat",
         "tattoos",
         1
        ],
        [
         "Mozambique",
         "home-decor",
         1
        ],
        [
         "Eritrea",
         "art",
         1
        ],
        [
         "Namibia",
         "vehicles",
         1
        ],
        [
         "Namibia",
         "event-planning",
         1
        ],
        [
         "Nauru",
         "travel",
         1
        ],
        [
         "Ethiopia",
         "travel",
         1
        ],
        [
         "New Caledonia",
         "mens-fashion",
         1
        ],
        [
         "New Caledonia",
         "travel",
         1
        ],
        [
         "Niger",
         "education",
         1
        ],
        [
         "French Guiana",
         "art",
         1
        ],
        [
         "Norfolk Island",
         "mens-fashion",
         1
        ],
        [
         "Norfolk Island",
         "event-planning",
         1
        ],
        [
         "Norway",
         "travel",
         1
        ],
        [
         "Palestinian Territory",
         "vehicles",
         1
        ],
        [
         "Palestinian Territory",
         "quotes",
         1
        ],
        [
         "Panama",
         "vehicles",
         1
        ],
        [
         "Panama",
         "travel",
         1
        ],
        [
         "French Southern Territories",
         "travel",
         1
        ],
        [
         "Peru",
         "tattoos",
         1
        ],
        [
         "Peru",
         "vehicles",
         1
        ],
        [
         "Philippines",
         "event-planning",
         1
        ],
        [
         "Gabon",
         "home-decor",
         1
        ],
        [
         "Puerto Rico",
         "event-planning",
         1
        ],
        [
         "Qatar",
         "finance",
         1
        ],
        [
         "Romania",
         "tattoos",
         1
        ],
        [
         "Ghana",
         "art",
         1
        ],
        [
         "Saint Barthelemy",
         "mens-fashion",
         1
        ],
        [
         "Saint Barthelemy",
         "education",
         1
        ],
        [
         "Saint Helena",
         "beauty",
         1
        ],
        [
         "Saint Kitts and Nevis",
         "event-planning",
         1
        ],
        [
         "Saint Martin",
         "quotes",
         1
        ],
        [
         "Saint Vincent and the Grenadines",
         "christmas",
         1
        ],
        [
         "Samoa",
         "vehicles",
         1
        ],
        [
         "Guatemala",
         "finance",
         1
        ],
        [
         "Saudi Arabia",
         "beauty",
         1
        ],
        [
         "Serbia",
         "travel",
         1
        ],
        [
         "Seychelles",
         "beauty",
         1
        ],
        [
         "Guatemala",
         "christmas",
         1
        ],
        [
         "Singapore",
         "travel",
         1
        ],
        [
         "Slovakia (Slovak Republic)",
         "finance",
         1
        ],
        [
         "Solomon Islands",
         "mens-fashion",
         1
        ],
        [
         "Guinea",
         "christmas",
         1
        ],
        [
         "Somalia",
         "travel",
         1
        ],
        [
         "South Africa",
         "vehicles",
         1
        ],
        [
         "Sudan",
         "art",
         1
        ],
        [
         "Sudan",
         "mens-fashion",
         1
        ],
        [
         "Svalbard & Jan Mayen Islands",
         "beauty",
         1
        ],
        [
         "Sweden",
         "mens-fashion",
         1
        ],
        [
         "Switzerland",
         "quotes",
         1
        ],
        [
         "Heard Island and McDonald Islands",
         "mens-fashion",
         1
        ],
        [
         "Tokelau",
         "beauty",
         1
        ],
        [
         "Tonga",
         "beauty",
         1
        ],
        [
         "Tunisia",
         "diy-and-crafts",
         1
        ],
        [
         "Honduras",
         "event-planning",
         1
        ],
        [
         "Turks and Caicos Islands",
         "event-planning",
         1
        ],
        [
         "Tuvalu",
         "tattoos",
         1
        ],
        [
         "United States of America",
         "tattoos",
         1
        ],
        [
         "Iceland",
         "diy-and-crafts",
         1
        ],
        [
         "Venezuela",
         "event-planning",
         1
        ],
        [
         "Wallis and Futuna",
         "home-decor",
         1
        ],
        [
         "Yemen",
         "home-decor",
         1
        ],
        [
         "India",
         "beauty",
         1
        ],
        [
         "Iran",
         "mens-fashion",
         1
        ],
        [
         "Ireland",
         "mens-fashion",
         1
        ],
        [
         "Ireland",
         "tattoos",
         1
        ],
        [
         "Israel",
         "quotes",
         1
        ],
        [
         "Italy",
         "beauty",
         1
        ],
        [
         "Jamaica",
         "vehicles",
         1
        ],
        [
         "Japan",
         "mens-fashion",
         1
        ],
        [
         "Kenya",
         "diy-and-crafts",
         1
        ],
        [
         "Kenya",
         "mens-fashion",
         1
        ],
        [
         "Kenya",
         "home-decor",
         1
        ],
        [
         "Kiribati",
         "christmas",
         1
        ],
        [
         "Kuwait",
         "diy-and-crafts",
         1
        ],
        [
         "Kyrgyz Republic",
         "vehicles",
         1
        ],
        [
         "Kyrgyz Republic",
         "education",
         1
        ],
        [
         "Lao People's Democratic Republic",
         "quotes",
         1
        ],
        [
         "Liberia",
         "christmas",
         1
        ],
        [
         "Libyan Arab Jamahiriya",
         "beauty",
         1
        ],
        [
         "Lithuania",
         "tattoos",
         1
        ],
        [
         "Luxembourg",
         "education",
         1
        ],
        [
         "Macao",
         "vehicles",
         1
        ],
        [
         "Macao",
         "quotes",
         1
        ],
        [
         "Macedonia",
         "tattoos",
         1
        ],
        [
         "Madagascar",
         "mens-fashion",
         1
        ],
        [
         "Malawi",
         "vehicles",
         1
        ],
        [
         "Malta",
         "art",
         1
        ],
        [
         "Malta",
         "christmas",
         1
        ],
        [
         "Malta",
         "beauty",
         1
        ],
        [
         "Marshall Islands",
         "travel",
         1
        ],
        [
         "Martinique",
         "event-planning",
         1
        ],
        [
         "Mauritania",
         "education",
         1
        ],
        [
         "Mauritius",
         "mens-fashion",
         1
        ],
        [
         "Mayotte",
         "christmas",
         1
        ],
        [
         "Moldova",
         "beauty",
         1
        ],
        [
         "Montserrat",
         "education",
         1
        ],
        [
         "Montserrat",
         "event-planning",
         1
        ],
        [
         "Morocco",
         "quotes",
         1
        ],
        [
         "Mozambique",
         "art",
         1
        ],
        [
         "Mozambique",
         "mens-fashion",
         1
        ],
        [
         "Myanmar",
         "christmas",
         1
        ],
        [
         "Nauru",
         "mens-fashion",
         1
        ],
        [
         "Nauru",
         "beauty",
         1
        ],
        [
         "Netherlands Antilles",
         "beauty",
         1
        ],
        [
         "Netherlands Antilles",
         "art",
         1
        ],
        [
         "New Caledonia",
         "art",
         1
        ],
        [
         "New Zealand",
         "tattoos",
         1
        ],
        [
         "Niger",
         "art",
         1
        ],
        [
         "Niger",
         "beauty",
         1
        ],
        [
         "Nigeria",
         "christmas",
         1
        ],
        [
         "Norfolk Island",
         "beauty",
         1
        ],
        [
         "Oman",
         "beauty",
         1
        ],
        [
         "Palestinian Territory",
         "art",
         1
        ],
        [
         "Panama",
         "event-planning",
         1
        ],
        [
         "Panama",
         "beauty",
         1
        ],
        [
         "Papua New Guinea",
         "quotes",
         1
        ],
        [
         "Papua New Guinea",
         "event-planning",
         1
        ],
        [
         "Paraguay",
         "vehicles",
         1
        ],
        [
         "Philippines",
         "vehicles",
         1
        ],
        [
         "Poland",
         "event-planning",
         1
        ],
        [
         "Portugal",
         "diy-and-crafts",
         1
        ],
        [
         "Puerto Rico",
         "christmas",
         1
        ],
        [
         "Qatar",
         "christmas",
         1
        ],
        [
         "Qatar",
         "beauty",
         1
        ],
        [
         "Romania",
         "art",
         1
        ],
        [
         "Romania",
         "quotes",
         1
        ],
        [
         "Romania",
         "vehicles",
         1
        ],
        [
         "Saint Helena",
         "art",
         1
        ],
        [
         "Saint Kitts and Nevis",
         "home-decor",
         1
        ],
        [
         "Saint Kitts and Nevis",
         "vehicles",
         1
        ],
        [
         "Saint Martin",
         "christmas",
         1
        ],
        [
         "Saint Vincent and the Grenadines",
         "quotes",
         1
        ],
        [
         "Samoa",
         "diy-and-crafts",
         1
        ],
        [
         "Sao Tome and Principe",
         "tattoos",
         1
        ],
        [
         "Sao Tome and Principe",
         "finance",
         1
        ],
        [
         "Seychelles",
         "tattoos",
         1
        ],
        [
         "Singapore",
         "vehicles",
         1
        ],
        [
         "Singapore",
         "mens-fashion",
         1
        ],
        [
         "Singapore",
         "education",
         1
        ],
        [
         "Slovakia (Slovak Republic)",
         "vehicles",
         1
        ],
        [
         "Slovenia",
         "beauty",
         1
        ],
        [
         "Solomon Islands",
         "art",
         1
        ],
        [
         "Solomon Islands",
         "vehicles",
         1
        ],
        [
         "Somalia",
         "quotes",
         1
        ],
        [
         "South Georgia and the South Sandwich Islands",
         "vehicles",
         1
        ],
        [
         "Sudan",
         "education",
         1
        ],
        [
         "Svalbard & Jan Mayen Islands",
         "travel",
         1
        ],
        [
         "Swaziland",
         "travel",
         1
        ],
        [
         "Sweden",
         "diy-and-crafts",
         1
        ],
        [
         "Tajikistan",
         "beauty",
         1
        ],
        [
         "Tajikistan",
         "travel",
         1
        ],
        [
         "Tanzania",
         "art",
         1
        ],
        [
         "Trinidad and Tobago",
         "christmas",
         1
        ],
        [
         "Tunisia",
         "travel",
         1
        ],
        [
         "Turkmenistan",
         "event-planning",
         1
        ],
        [
         "Turkmenistan",
         "travel",
         1
        ],
        [
         "Turks and Caicos Islands",
         "tattoos",
         1
        ],
        [
         "United States of America",
         "education",
         1
        ],
        [
         "United States of America",
         "quotes",
         1
        ],
        [
         "Venezuela",
         "diy-and-crafts",
         1
        ],
        [
         "Venezuela",
         "quotes",
         1
        ],
        [
         "Vietnam",
         "quotes",
         1
        ],
        [
         "Yemen",
         "christmas",
         1
        ]
       ],
       "datasetInfos": [],
       "dbfsResultPath": null,
       "isJsonSchema": true,
       "metadata": {},
       "overflow": false,
       "plotOptions": {
        "customPlotOptions": {},
        "displayType": "table",
        "pivotAggregation": null,
        "pivotColumns": null,
        "xColumns": null,
        "yColumns": null
       },
       "removedWidgets": [],
       "schema": [
        {
         "metadata": "{}",
         "name": "country",
         "type": "\"string\""
        },
        {
         "metadata": "{}",
         "name": "category",
         "type": "\"string\""
        },
        {
         "metadata": "{}",
         "name": "category_count",
         "type": "\"long\""
        }
       ],
       "type": "table"
      }
     },
     "output_type": "display_data"
    }
   ],
   "source": [
    "from pyspark.sql import functions as f\n",
    "from pyspark.sql.window import Window\n",
    "\n",
    "# join the tables on the ind column, groupby the country and category then finally count the distinct unique_id as category_count because there could be duplicates of the unique_idf\n",
    "df = spark.table(\"global_temp.pin\").join(spark.table(\"global_temp.geo\"), \"ind\").groupBy(\"country\", \"category\").agg(f.countDistinct(\"unique_id\").alias(\"category_count\"))\n",
    "\n",
    "# create window partition by country and order it by the number in category count\n",
    "window = Window.partitionBy(\"country\").orderBy(f.desc(\"category_count\"))\n",
    "#apply the window function using dense_rank because it takes into account whether there are two category with same count\n",
    "df_with_dense_rank = df.withColumn(\"dr\", f.dense_rank().over(window))\n",
    "#the highest category for each country will have the dr column equal to 1 therefore filter for that and orderBy desc category count\n",
    "df_highest_per_year = df_with_dense_rank.filter(f.col(\"dr\") == 1).orderBy(f.desc(\"category_count\"))\n",
    "\n",
    "display(df_highest_per_year.select(\"country\",\"category\", \"category_count\"))\n",
    "\n"
   ]
  },
  {
   "cell_type": "markdown",
   "metadata": {
    "application/vnd.databricks.v1+cell": {
     "cellMetadata": {
      "byteLimit": 2048000,
      "rowLimit": 10000
     },
     "inputWidgets": {},
     "nuid": "490e2f39-f48c-4f94-95ea-7d4f4f0f63e5",
     "showTitle": false,
     "title": ""
    }
   },
   "source": [
    "Q2. Find which was the most popular category each year\n"
   ]
  },
  {
   "cell_type": "code",
   "execution_count": 0,
   "metadata": {
    "application/vnd.databricks.v1+cell": {
     "cellMetadata": {
      "byteLimit": 2048000,
      "rowLimit": 10000
     },
     "inputWidgets": {},
     "nuid": "4a4aa6f3-3e26-43e6-b516-f36de1ad8337",
     "showTitle": false,
     "title": ""
    }
   },
   "outputs": [
    {
     "output_type": "display_data",
     "data": {
      "text/html": [
       "<style scoped>\n",
       "  .table-result-container {\n",
       "    max-height: 300px;\n",
       "    overflow: auto;\n",
       "  }\n",
       "  table, th, td {\n",
       "    border: 1px solid black;\n",
       "    border-collapse: collapse;\n",
       "  }\n",
       "  th, td {\n",
       "    padding: 5px;\n",
       "  }\n",
       "  th {\n",
       "    text-align: left;\n",
       "  }\n",
       "</style><div class='table-result-container'><table class='table-result'><thead style='background-color: white'><tr><th>category</th><th>category_count</th><th>year</th></tr></thead><tbody><tr><td>christmas</td><td>25</td><td>2022</td></tr><tr><td>education</td><td>20</td><td>2021</td></tr><tr><td>mens-fashion</td><td>22</td><td>2020</td></tr><tr><td>art</td><td>21</td><td>2019</td></tr><tr><td>christmas</td><td>25</td><td>2018</td></tr><tr><td>mens-fashion</td><td>6</td><td>2017</td></tr></tbody></table></div>"
      ]
     },
     "metadata": {
      "application/vnd.databricks.v1+output": {
       "addedWidgets": {},
       "aggData": [],
       "aggError": "",
       "aggOverflow": false,
       "aggSchema": [],
       "aggSeriesLimitReached": false,
       "aggType": "",
       "arguments": {},
       "columnCustomDisplayInfos": {},
       "data": [
        [
         "christmas",
         25,
         2022
        ],
        [
         "education",
         20,
         2021
        ],
        [
         "mens-fashion",
         22,
         2020
        ],
        [
         "art",
         21,
         2019
        ],
        [
         "christmas",
         25,
         2018
        ],
        [
         "mens-fashion",
         6,
         2017
        ]
       ],
       "datasetInfos": [],
       "dbfsResultPath": null,
       "isJsonSchema": true,
       "metadata": {},
       "overflow": false,
       "plotOptions": {
        "customPlotOptions": {},
        "displayType": "table",
        "pivotAggregation": null,
        "pivotColumns": null,
        "xColumns": null,
        "yColumns": null
       },
       "removedWidgets": [],
       "schema": [
        {
         "metadata": "{}",
         "name": "category",
         "type": "\"string\""
        },
        {
         "metadata": "{}",
         "name": "category_count",
         "type": "\"long\""
        },
        {
         "metadata": "{}",
         "name": "year",
         "type": "\"integer\""
        }
       ],
       "type": "table"
      }
     },
     "output_type": "display_data"
    }
   ],
   "source": [
    "\n",
    "# Step 1: Join and group by category and year and count the unique posts and give it an alias\n",
    "df = spark.table(\"global_temp.geo\").join(spark.table(\"global_temp.pin\"), \"ind\").groupBy('category', f.year(\"timestamp\").alias(\"year\")).agg(f.countDistinct(\"unique_id\").alias(\"category_count\"))\n",
    "\n",
    "# Step 2: Create a window function and partition by year and orderby desc category count\n",
    "window = Window.partitionBy(\"year\").orderBy(f.desc(\"category_count\"))\n",
    "\n",
    "#again dense rank over the counts because there might be two or more category that have the same popularity that year\n",
    "df_with_dense_rank = df.withColumn(\"dr\", f.dense_rank().over(window))\n",
    "\n",
    "#step 3: filter for only the highest category per year\n",
    "df_highest_per_year = df_with_dense_rank.filter(f.col(\"dr\") == 1).orderBy(f.desc(\"year\"))\n",
    "\n",
    "display(df_highest_per_year.select(\"category\", \"category_count\", \"year\"))\n",
    "\n"
   ]
  },
  {
   "cell_type": "markdown",
   "metadata": {
    "application/vnd.databricks.v1+cell": {
     "cellMetadata": {
      "byteLimit": 2048000,
      "rowLimit": 10000
     },
     "inputWidgets": {},
     "nuid": "3ac7a71d-5ced-4642-8e7f-4ee56dd12cb7",
     "showTitle": false,
     "title": ""
    }
   },
   "source": [
    "Q3. Find the user with the most followers in each country"
   ]
  },
  {
   "cell_type": "code",
   "execution_count": 0,
   "metadata": {
    "application/vnd.databricks.v1+cell": {
     "cellMetadata": {
      "byteLimit": 2048000,
      "rowLimit": 10000
     },
     "inputWidgets": {},
     "nuid": "f33d73e1-6085-4e38-8822-35298e1daa9a",
     "showTitle": false,
     "title": ""
    }
   },
   "outputs": [
    {
     "output_type": "display_data",
     "data": {
      "text/html": [
       "<style scoped>\n",
       "  .table-result-container {\n",
       "    max-height: 300px;\n",
       "    overflow: auto;\n",
       "  }\n",
       "  table, th, td {\n",
       "    border: 1px solid black;\n",
       "    border-collapse: collapse;\n",
       "  }\n",
       "  th, td {\n",
       "    padding: 5px;\n",
       "  }\n",
       "  th {\n",
       "    text-align: left;\n",
       "  }\n",
       "</style><div class='table-result-container'><table class='table-result'><thead style='background-color: white'><tr><th>country</th><th>follower_count</th><th>poster_name</th></tr></thead><tbody><tr><td>Angola</td><td>8000000</td><td>Tastemade</td></tr><tr><td>American Samoa</td><td>8000000</td><td>Mamas Uncut</td></tr><tr><td>Azerbaijan</td><td>6000000</td><td>Style Me Pretty</td></tr><tr><td>Burkina Faso</td><td>6000000</td><td>Behance</td></tr><tr><td>Bouvet Island (Bouvetoya)</td><td>5000000</td><td>POPSUGAR</td></tr><tr><td>Albania</td><td>5000000</td><td>The Minds Journal</td></tr><tr><td>United States Virgin Islands</td><td>4000000</td><td>Ugly Duckling House | DIY, Home, Woodworking, Crafts & Recipes</td></tr><tr><td>Bangladesh</td><td>4000000</td><td>Better Homes and Gardens</td></tr><tr><td>Afghanistan</td><td>3000000</td><td>9GAG</td></tr><tr><td>Botswana</td><td>3000000</td><td>OkChicas</td></tr><tr><td>Christmas Island</td><td>3000000</td><td>Instructables</td></tr><tr><td>Uganda</td><td>3000000</td><td>Inspired by Charm</td></tr><tr><td>Cambodia</td><td>2000000</td><td>Catch My Party</td></tr><tr><td>Argentina</td><td>2000000</td><td>Cheezburger</td></tr><tr><td>Costa Rica</td><td>2000000</td><td>Martha Stewart Living</td></tr><tr><td>Kuwait</td><td>2000000</td><td>Green Wedding Shoes</td></tr><tr><td>Australia</td><td>2000000</td><td>Mujer de 10 </td></tr><tr><td>Andorra</td><td>1000000</td><td>Teachers Pay Teachers</td></tr><tr><td>Martinique</td><td>1000000</td><td>Heart Handmade UK | Craft Room Ideas, Craft Ideas For Adults</td></tr><tr><td>Antarctica (the territory South of 60 deg S)</td><td>1000000</td><td>Refinery29</td></tr><tr><td>Antigua and Barbuda</td><td>1000000</td><td>Country Living Magazine</td></tr><tr><td>Guatemala</td><td>965000</td><td>Homedit.com</td></tr><tr><td>Bahamas</td><td>948000</td><td>Handmade Charlotte</td></tr><tr><td>Algeria</td><td>942000</td><td>YourTango</td></tr><tr><td>Bulgaria</td><td>912000</td><td>Half Baked Harvest</td></tr><tr><td>Lesotho</td><td>908000</td><td>The Guardian</td></tr><tr><td>Mongolia</td><td>893000</td><td>ZAFUL</td></tr><tr><td>Armenia</td><td>892000</td><td>Michelle {CraftyMorning.com}</td></tr><tr><td>Aruba</td><td>874000</td><td>GQ Magazine</td></tr><tr><td>Central African Republic</td><td>868000</td><td>PureWow</td></tr><tr><td>Cocos (Keeling) Islands</td><td>709000</td><td>How Does She</td></tr><tr><td>Pitcairn Islands</td><td>671000</td><td>Marla Meridith</td></tr><tr><td>Korea</td><td>627000</td><td>Latest Hairstyles</td></tr><tr><td>Burundi</td><td>620000</td><td>Macho Moda</td></tr><tr><td>Palestinian Territory</td><td>561000</td><td>Onedio.com</td></tr><tr><td>Liberia</td><td>550000</td><td>Happy Hooligans - Crafts and Activities for Kids</td></tr><tr><td>Heard Island and McDonald Islands</td><td>487000</td><td>Real Men Real Style</td></tr><tr><td>Belgium</td><td>433000</td><td>The Krazy Coupon Lady</td></tr><tr><td>Maldives</td><td>416000</td><td>Parents</td></tr><tr><td>Congo</td><td>410000</td><td>Virginia | Fynes Designs : Home Decor, Easy DIY’s, Lifestyle</td></tr><tr><td>Barbados</td><td>410000</td><td>The Creativity Exchange</td></tr><tr><td>Czech Republic</td><td>398000</td><td>Tatertots and Jello .com</td></tr><tr><td>Greece</td><td>397000</td><td>Thirty Handmade Days</td></tr><tr><td>Tokelau</td><td>384000</td><td>Budget Savvy Diva</td></tr><tr><td>Bosnia and Herzegovina</td><td>370000</td><td>5-Minute Crafts Family</td></tr><tr><td>Bahrain</td><td>332000</td><td>Alea Milham | Premeditated Leftovers</td></tr><tr><td>Bolivia</td><td>328000</td><td>Squarespace</td></tr><tr><td>Belarus</td><td>323000</td><td>Kris - Driven by Decor</td></tr><tr><td>Cuba</td><td>307000</td><td>Listotic - Easy Ideas | Fun DIY Projects | Easy Recipes | Lists</td></tr><tr><td>Brunei Darussalam</td><td>277000</td><td>Kids Craft Room</td></tr><tr><td>Djibouti</td><td>275000</td><td>Instrupix | Lilly Childers</td></tr><tr><td>Niue</td><td>271000</td><td>Michelle | Brown Eyed Baker</td></tr><tr><td>Belize</td><td>267000</td><td>Easy Kids Crafts & Activities | Preschool & Kindergarten Ideas</td></tr><tr><td>Canada</td><td>258000</td><td>Giorgenti New York</td></tr><tr><td>Austria</td><td>251000</td><td>Diply</td></tr><tr><td>British Indian Ocean Territory (Chagos Archipelago)</td><td>248000</td><td>Design Rulz</td></tr><tr><td>Netherlands</td><td>247000</td><td>Homes To Love AU</td></tr><tr><td>British Virgin Islands</td><td>245000</td><td>Kitchen Fun With My 3 Sons</td></tr><tr><td>French Guiana</td><td>241000</td><td>Sweet Red Poppy Free Sewing Patterns, Cut Files & Craft Tutorials</td></tr><tr><td>Monaco</td><td>227000</td><td>Artists Network</td></tr><tr><td>Chad</td><td>226000</td><td>Glued To My Crafts</td></tr><tr><td>El Salvador</td><td>221000</td><td>Power of Positivity</td></tr><tr><td>Malta</td><td>219000</td><td>Iowa Girl Eats</td></tr><tr><td>Guam</td><td>219000</td><td>Amanda Green Bottoms @ kevinandamanda.com</td></tr><tr><td>Georgia</td><td>203000</td><td>Susie Allison | Busy Toddler</td></tr><tr><td>Comoros</td><td>196000</td><td>Becky Mansfield - YourModernFamily </td></tr><tr><td>Cote d'Ivoire</td><td>192000</td><td>The Crafting Chicks</td></tr><tr><td>Latvia</td><td>188000</td><td>Royal Fashionist</td></tr><tr><td>Grenada</td><td>185000</td><td>The Mighty</td></tr><tr><td>Cape Verde</td><td>178000</td><td>Sand and Sisal</td></tr><tr><td>Saint Kitts and Nevis</td><td>171000</td><td>vintagetopia</td></tr><tr><td>Namibia</td><td>168000</td><td>Snappy Gourmet</td></tr><tr><td>India</td><td>167000</td><td>Happiness is Homemade | Crafts, Printables, Party Ideas, & More!</td></tr><tr><td>Lebanon</td><td>163000</td><td>Your Positive Oasis | Motivation| Inspiration| Wellness</td></tr><tr><td>Libyan Arab Jamahiriya</td><td>157000</td><td>miss coco</td></tr><tr><td>Saint Helena</td><td>154000</td><td>Book Riot</td></tr><tr><td>Svalbard & Jan Mayen Islands</td><td>152000</td><td>Merissa (Little House Living) | Simple Living + Frugal Living</td></tr><tr><td>Colombia</td><td>152000</td><td>Jordan Page | Fun Cheap or Free</td></tr><tr><td>Indonesia</td><td>141000</td><td>Lifehacker</td></tr><tr><td>Guinea</td><td>134000</td><td>Cars Zone</td></tr><tr><td>Croatia</td><td>134000</td><td>Live Like You Are Rich | Finances, Pregnancy, Recipes & More</td></tr><tr><td>Bhutan</td><td>130000</td><td>Esquire Magazine</td></tr><tr><td>China</td><td>127000</td><td>Empowered Sustenance</td></tr><tr><td>Guadeloupe</td><td>123000</td><td>Jess Abbott | The Sewing Rabbit</td></tr><tr><td>Cameroon</td><td>123000</td><td>The Blonde Abroad</td></tr><tr><td>Mali</td><td>122000</td><td>Mobile Home Living®</td></tr><tr><td>Somalia</td><td>118000</td><td>Balloons_worldwides</td></tr><tr><td>Egypt</td><td>117000</td><td>Uncrate</td></tr><tr><td>France</td><td>115000</td><td>Hello Lovely</td></tr><tr><td>Benin</td><td>113000</td><td>Penny Pinchin Mom |  Budget, Get out of Debt, Save Money & More!</td></tr><tr><td>Madagascar</td><td>112000</td><td>MomAdvice</td></tr><tr><td>Eritrea</td><td>105000</td><td>Core77</td></tr><tr><td>Dominican Republic</td><td>104000</td><td>Wonder Forest</td></tr><tr><td>Venezuela</td><td>100000</td><td>My Poppet - A Craft, Travel & Food Blog for Colourful Living</td></tr><tr><td>Haiti</td><td>100000</td><td>Fres Houz</td></tr><tr><td>Anguilla</td><td>92000</td><td>Kristen | Lifestyle, Mom Tips & Teacher Stuff Blog</td></tr><tr><td>Gibraltar</td><td>89000</td><td>TheSuperBOO!</td></tr><tr><td>Gabon</td><td>88000</td><td>Angela Watson's Truth for Teachers</td></tr><tr><td>Myanmar</td><td>88000</td><td>Hearth and Vine</td></tr><tr><td>Japan</td><td>87000</td><td>The Adult Man - Practical Men's Fashion & Lifestyle Advice</td></tr><tr><td>Kyrgyz Republic</td><td>87000</td><td>ADDitude Magazine</td></tr><tr><td>Ecuador</td><td>84000</td><td>LABONNI</td></tr><tr><td>Mozambique</td><td>83000</td><td>Stylin by Aylin</td></tr><tr><td>Finland</td><td>79000</td><td>Amee</td></tr><tr><td>South Georgia and the South Sandwich Islands</td><td>75000</td><td>Classic Nation</td></tr><tr><td>Dominica</td><td>67000</td><td>Monique - Living Life and Learning</td></tr><tr><td>Tunisia</td><td>66000</td><td>El blog amarillo</td></tr><tr><td>Sudan</td><td>63000</td><td>Literacy and Math Ideas</td></tr><tr><td>Netherlands Antilles</td><td>61000</td><td>Sweet T Makes Three</td></tr><tr><td>Norfolk Island</td><td>60000</td><td>The Skinny Confidential</td></tr><tr><td>French Southern Territories</td><td>59000</td><td>Mary at Home is Where the Boat Is</td></tr><tr><td>Falkland Islands (Malvinas)</td><td>59000</td><td>Victoria Magazine</td></tr><tr><td>Sweden</td><td>58000</td><td>My Bored Toddler</td></tr><tr><td>Guinea-Bissau</td><td>56000</td><td>The Inspiration Edit - Best Instant Pot Recipes And Kids Crafts</td></tr><tr><td>French Polynesia</td><td>52000</td><td>The Printable Princess</td></tr><tr><td>Isle of Man</td><td>52000</td><td>Abbotts At Home</td></tr><tr><td>Ireland</td><td>49000</td><td>Seeking Lavender Lane</td></tr><tr><td>United States of America</td><td>47000</td><td>Evolution of Style</td></tr><tr><td>Mauritius</td><td>46000</td><td>Cool Things- Drawing Ideas , Fashion ,Beautiy and Home Decor</td></tr><tr><td>Bermuda</td><td>46000</td><td>Life on Summerhill | Home, Holiday Decor & DIY Website</td></tr><tr><td>Nauru</td><td>45000</td><td>The Intrepid Guide | Language Learning for Travel</td></tr><tr><td>Qatar</td><td>45000</td><td>Hudson Farmhouse</td></tr><tr><td>Moldova</td><td>44000</td><td>A Blossoming Life DIY Projects + Recipes +     Natural Living</td></tr><tr><td>Fiji</td><td>41000</td><td>Teach Create Motivate</td></tr><tr><td>Denmark</td><td>36000</td><td>A Life Adjacent</td></tr><tr><td>Luxembourg</td><td>35000</td><td>Linda Kamp-Around The Kampfire</td></tr><tr><td>Iran</td><td>33000</td><td>Yourwillbearwitness</td></tr><tr><td>Guernsey</td><td>32000</td><td>TattooMagz</td></tr><tr><td>Mayotte</td><td>31000</td><td>Home with Holliday</td></tr><tr><td>Portugal</td><td>29000</td><td>Lindsey Blogs</td></tr><tr><td>Kenya</td><td>26000</td><td>FOURLINE DESIGN | Home Decor & Accessories</td></tr><tr><td>Cyprus</td><td>25000</td><td>Lantern Lane Designs|Home Decor|DIY Projects|DIY Home Decor</td></tr><tr><td>Mauritania</td><td>22000</td><td>The Literacy Nest</td></tr><tr><td>Turkey</td><td>21000</td><td>Ashley Hewell | The Frugal Ginger | Frugal Living + Personal Finance + Money Saving Tips</td></tr><tr><td>Seychelles</td><td>21000</td><td>ALL FOR WOMAN</td></tr><tr><td>Italy</td><td>21000</td><td>GirlGetGlamorous</td></tr><tr><td>Montserrat</td><td>20000</td><td>Luci // Mums Make Lists - Family and mom lifestyle</td></tr><tr><td>New Caledonia</td><td>20000</td><td>Husskie</td></tr><tr><td>New Zealand</td><td>19000</td><td>ZENIDEES</td></tr><tr><td>Turks and Caicos Islands</td><td>19000</td><td>Let's Eat Cake</td></tr><tr><td>Chile</td><td>19000</td><td>Amber Strong - The Maker’s Map | DIY’s, Crafts & Home Decor</td></tr><tr><td>Jamaica</td><td>19000</td><td>Financial Toolkit</td></tr><tr><td>Malawi</td><td>18000</td><td>Tequila_Rose 🌹</td></tr><tr><td>Ethiopia</td><td>17000</td><td>Sarah Wahl | Crestfox</td></tr><tr><td>Cayman Islands</td><td>15000</td><td>Our Escape Clause l Travel in Europe & Beyond</td></tr><tr><td>Vietnam</td><td>15000</td><td>Leanne | Midlife Blogger at www.crestingthehill.com.au</td></tr><tr><td>Hong Kong</td><td>14000</td><td>Miranda Schroeder // Thoughtfully Thrifted</td></tr><tr><td>Marshall Islands</td><td>13000</td><td>Dashing Darlin' </td></tr><tr><td>Morocco</td><td>13000</td><td>Two Southern Sweeties | Life After 50 + Second Act Lifestyle</td></tr><tr><td>Slovakia (Slovak Republic)</td><td>11000</td><td>CollectorCarAds.com</td></tr><tr><td>Faroe Islands</td><td>11000</td><td>Veterans United Home Loans</td></tr><tr><td>Brazil</td><td>11000</td><td>Budget with Rachel</td></tr><tr><td>Equatorial Guinea</td><td>10000</td><td>Whisper Wanderlust * Travel Blog</td></tr><tr><td>Germany</td><td>10000</td><td>Middle Class Dad</td></tr><tr><td>Liechtenstein</td><td>10000</td><td>Sophie's Way</td></tr><tr><td>Lithuania</td><td>10000</td><td>The Bespoke ELA Classroom</td></tr><tr><td>Saint Martin</td><td>9000</td><td>Montgo Farmhouse</td></tr><tr><td>Romania</td><td>9000</td><td>Soberbadassery | Your Free Online Guide To Sober Living </td></tr><tr><td>Nicaragua</td><td>9000</td><td>Land Rover USA</td></tr><tr><td>Kiribati</td><td>8000</td><td>MOMtivational // Parenting + Pregnancy + More</td></tr><tr><td>Mexico</td><td>8000</td><td>Trendy Socialite</td></tr><tr><td>Solomon Islands</td><td>7000</td><td>Upcyclist</td></tr><tr><td>Turkmenistan</td><td>7000</td><td>Dionne ❤️ Home & Life Organized</td></tr><tr><td>Macedonia</td><td>7000</td><td>Mary</td></tr><tr><td>Peru</td><td>6000</td><td>Nashvegasmama</td></tr><tr><td>Rwanda</td><td>6000</td><td>Traveling Chic</td></tr><tr><td>Estonia</td><td>6000</td><td>Decorator's Warehouse</td></tr><tr><td>Iceland</td><td>5000</td><td>Atuflower</td></tr><tr><td>Papua New Guinea</td><td>5000</td><td>William Nowell</td></tr><tr><td>Niger</td><td>4000</td><td>The Edvocate</td></tr><tr><td>Togo</td><td>4000</td><td>debra</td></tr><tr><td>Yemen</td><td>4000</td><td>T I F F A N Y</td></tr><tr><td>South Africa</td><td>3000</td><td>Sophie Watters</td></tr><tr><td>Israel</td><td>3000</td><td>LISA MASLYK / VOICE OVER TALENT /ACTOR</td></tr><tr><td>Swaziland</td><td>3000</td><td>Laidback Trip</td></tr><tr><td>Singapore</td><td>3000</td><td>CHRISTIAN CHÊNE</td></tr><tr><td>Macao</td><td>3000</td><td>Vanessa Ferran</td></tr><tr><td>Samoa</td><td>3000</td><td>Coley Kuyper Art</td></tr><tr><td>Wallis and Futuna</td><td>2000</td><td>Organize Ways</td></tr><tr><td>Philippines</td><td>2000</td><td>ForYou</td></tr><tr><td>Sao Tome and Principe</td><td>2000</td><td>kayyla.april</td></tr><tr><td>Hungary</td><td>2000</td><td>BalsaCircle</td></tr><tr><td>Tajikistan</td><td>2000</td><td>Our Passion for Travel | Travel blog</td></tr><tr><td>Cook Islands</td><td>1000</td><td>The Spring Break Family - Family Travel</td></tr><tr><td>Micronesia</td><td>1000</td><td>Anna Kim | Cause-Based Travel + Online Coach - My Travelanthropy</td></tr><tr><td>Panama</td><td>1000</td><td>Alanna | Periodic Adventures</td></tr><tr><td>Puerto Rico</td><td>1000</td><td>Book More Brides</td></tr><tr><td>Lao People's Democratic Republic</td><td>849</td><td>Cora Graaff</td></tr><tr><td>Holy See (Vatican City State)</td><td>831</td><td>Mich Cam</td></tr><tr><td>Oman</td><td>777</td><td>Kennedy Taylor</td></tr><tr><td>Kazakhstan</td><td>771</td><td>Fashionsum | Nails, Tattoos, Hair, Makeup</td></tr><tr><td>Slovenia</td><td>746</td><td>Vsnicholls</td></tr><tr><td>Honduras</td><td>663</td><td>Michellé Groenewald Da Silva</td></tr><tr><td>Saint Barthelemy</td><td>517</td><td>Alexandria Franko</td></tr><tr><td>Guyana</td><td>394</td><td>Sarah Martin</td></tr><tr><td>Paraguay</td><td>392</td><td>Michal McCamman</td></tr><tr><td>Saudi Arabia</td><td>332</td><td>Jay Anna Fuentes</td></tr><tr><td>Saint Pierre and Miquelon</td><td>323</td><td>Ebbert Barnes</td></tr><tr><td>Greenland</td><td>270</td><td>Haiti Babi | Artisan Baby Blankets and Hats</td></tr><tr><td>Poland</td><td>265</td><td>BEIMER</td></tr><tr><td>Trinidad and Tobago</td><td>254</td><td>Syndi Mulcahy</td></tr><tr><td>Ghana</td><td>191</td><td>jennifer</td></tr><tr><td>Norway</td><td>189</td><td>DailyDose</td></tr><tr><td>Nigeria</td><td>164</td><td>eyelashdance</td></tr><tr><td>Saint Vincent and the Grenadines</td><td>121</td><td>CabreraE</td></tr><tr><td>Serbia</td><td>78</td><td>VEM Designs</td></tr><tr><td>Switzerland</td><td>45</td><td>Kelley Rosney</td></tr><tr><td>Tuvalu</td><td>41</td><td>Addymae Rodi</td></tr><tr><td>Tanzania</td><td>26</td><td>mj</td></tr><tr><td>Tonga</td><td>0</td><td>Grecia Perales</td></tr></tbody></table></div>"
      ]
     },
     "metadata": {
      "application/vnd.databricks.v1+output": {
       "addedWidgets": {},
       "aggData": [],
       "aggError": "",
       "aggOverflow": false,
       "aggSchema": [],
       "aggSeriesLimitReached": false,
       "aggType": "",
       "arguments": {},
       "columnCustomDisplayInfos": {},
       "data": [
        [
         "Angola",
         8000000,
         "Tastemade"
        ],
        [
         "American Samoa",
         8000000,
         "Mamas Uncut"
        ],
        [
         "Azerbaijan",
         6000000,
         "Style Me Pretty"
        ],
        [
         "Burkina Faso",
         6000000,
         "Behance"
        ],
        [
         "Bouvet Island (Bouvetoya)",
         5000000,
         "POPSUGAR"
        ],
        [
         "Albania",
         5000000,
         "The Minds Journal"
        ],
        [
         "United States Virgin Islands",
         4000000,
         "Ugly Duckling House | DIY, Home, Woodworking, Crafts & Recipes"
        ],
        [
         "Bangladesh",
         4000000,
         "Better Homes and Gardens"
        ],
        [
         "Afghanistan",
         3000000,
         "9GAG"
        ],
        [
         "Botswana",
         3000000,
         "OkChicas"
        ],
        [
         "Christmas Island",
         3000000,
         "Instructables"
        ],
        [
         "Uganda",
         3000000,
         "Inspired by Charm"
        ],
        [
         "Cambodia",
         2000000,
         "Catch My Party"
        ],
        [
         "Argentina",
         2000000,
         "Cheezburger"
        ],
        [
         "Costa Rica",
         2000000,
         "Martha Stewart Living"
        ],
        [
         "Kuwait",
         2000000,
         "Green Wedding Shoes"
        ],
        [
         "Australia",
         2000000,
         "Mujer de 10 "
        ],
        [
         "Andorra",
         1000000,
         "Teachers Pay Teachers"
        ],
        [
         "Martinique",
         1000000,
         "Heart Handmade UK | Craft Room Ideas, Craft Ideas For Adults"
        ],
        [
         "Antarctica (the territory South of 60 deg S)",
         1000000,
         "Refinery29"
        ],
        [
         "Antigua and Barbuda",
         1000000,
         "Country Living Magazine"
        ],
        [
         "Guatemala",
         965000,
         "Homedit.com"
        ],
        [
         "Bahamas",
         948000,
         "Handmade Charlotte"
        ],
        [
         "Algeria",
         942000,
         "YourTango"
        ],
        [
         "Bulgaria",
         912000,
         "Half Baked Harvest"
        ],
        [
         "Lesotho",
         908000,
         "The Guardian"
        ],
        [
         "Mongolia",
         893000,
         "ZAFUL"
        ],
        [
         "Armenia",
         892000,
         "Michelle {CraftyMorning.com}"
        ],
        [
         "Aruba",
         874000,
         "GQ Magazine"
        ],
        [
         "Central African Republic",
         868000,
         "PureWow"
        ],
        [
         "Cocos (Keeling) Islands",
         709000,
         "How Does She"
        ],
        [
         "Pitcairn Islands",
         671000,
         "Marla Meridith"
        ],
        [
         "Korea",
         627000,
         "Latest Hairstyles"
        ],
        [
         "Burundi",
         620000,
         "Macho Moda"
        ],
        [
         "Palestinian Territory",
         561000,
         "Onedio.com"
        ],
        [
         "Liberia",
         550000,
         "Happy Hooligans - Crafts and Activities for Kids"
        ],
        [
         "Heard Island and McDonald Islands",
         487000,
         "Real Men Real Style"
        ],
        [
         "Belgium",
         433000,
         "The Krazy Coupon Lady"
        ],
        [
         "Maldives",
         416000,
         "Parents"
        ],
        [
         "Congo",
         410000,
         "Virginia | Fynes Designs : Home Decor, Easy DIY’s, Lifestyle"
        ],
        [
         "Barbados",
         410000,
         "The Creativity Exchange"
        ],
        [
         "Czech Republic",
         398000,
         "Tatertots and Jello .com"
        ],
        [
         "Greece",
         397000,
         "Thirty Handmade Days"
        ],
        [
         "Tokelau",
         384000,
         "Budget Savvy Diva"
        ],
        [
         "Bosnia and Herzegovina",
         370000,
         "5-Minute Crafts Family"
        ],
        [
         "Bahrain",
         332000,
         "Alea Milham | Premeditated Leftovers"
        ],
        [
         "Bolivia",
         328000,
         "Squarespace"
        ],
        [
         "Belarus",
         323000,
         "Kris - Driven by Decor"
        ],
        [
         "Cuba",
         307000,
         "Listotic - Easy Ideas | Fun DIY Projects | Easy Recipes | Lists"
        ],
        [
         "Brunei Darussalam",
         277000,
         "Kids Craft Room"
        ],
        [
         "Djibouti",
         275000,
         "Instrupix | Lilly Childers"
        ],
        [
         "Niue",
         271000,
         "Michelle | Brown Eyed Baker"
        ],
        [
         "Belize",
         267000,
         "Easy Kids Crafts & Activities | Preschool & Kindergarten Ideas"
        ],
        [
         "Canada",
         258000,
         "Giorgenti New York"
        ],
        [
         "Austria",
         251000,
         "Diply"
        ],
        [
         "British Indian Ocean Territory (Chagos Archipelago)",
         248000,
         "Design Rulz"
        ],
        [
         "Netherlands",
         247000,
         "Homes To Love AU"
        ],
        [
         "British Virgin Islands",
         245000,
         "Kitchen Fun With My 3 Sons"
        ],
        [
         "French Guiana",
         241000,
         "Sweet Red Poppy Free Sewing Patterns, Cut Files & Craft Tutorials"
        ],
        [
         "Monaco",
         227000,
         "Artists Network"
        ],
        [
         "Chad",
         226000,
         "Glued To My Crafts"
        ],
        [
         "El Salvador",
         221000,
         "Power of Positivity"
        ],
        [
         "Malta",
         219000,
         "Iowa Girl Eats"
        ],
        [
         "Guam",
         219000,
         "Amanda Green Bottoms @ kevinandamanda.com"
        ],
        [
         "Georgia",
         203000,
         "Susie Allison | Busy Toddler"
        ],
        [
         "Comoros",
         196000,
         "Becky Mansfield - YourModernFamily "
        ],
        [
         "Cote d'Ivoire",
         192000,
         "The Crafting Chicks"
        ],
        [
         "Latvia",
         188000,
         "Royal Fashionist"
        ],
        [
         "Grenada",
         185000,
         "The Mighty"
        ],
        [
         "Cape Verde",
         178000,
         "Sand and Sisal"
        ],
        [
         "Saint Kitts and Nevis",
         171000,
         "vintagetopia"
        ],
        [
         "Namibia",
         168000,
         "Snappy Gourmet"
        ],
        [
         "India",
         167000,
         "Happiness is Homemade | Crafts, Printables, Party Ideas, & More!"
        ],
        [
         "Lebanon",
         163000,
         "Your Positive Oasis | Motivation| Inspiration| Wellness"
        ],
        [
         "Libyan Arab Jamahiriya",
         157000,
         "miss coco"
        ],
        [
         "Saint Helena",
         154000,
         "Book Riot"
        ],
        [
         "Svalbard & Jan Mayen Islands",
         152000,
         "Merissa (Little House Living) | Simple Living + Frugal Living"
        ],
        [
         "Colombia",
         152000,
         "Jordan Page | Fun Cheap or Free"
        ],
        [
         "Indonesia",
         141000,
         "Lifehacker"
        ],
        [
         "Guinea",
         134000,
         "Cars Zone"
        ],
        [
         "Croatia",
         134000,
         "Live Like You Are Rich | Finances, Pregnancy, Recipes & More"
        ],
        [
         "Bhutan",
         130000,
         "Esquire Magazine"
        ],
        [
         "China",
         127000,
         "Empowered Sustenance"
        ],
        [
         "Guadeloupe",
         123000,
         "Jess Abbott | The Sewing Rabbit"
        ],
        [
         "Cameroon",
         123000,
         "The Blonde Abroad"
        ],
        [
         "Mali",
         122000,
         "Mobile Home Living®"
        ],
        [
         "Somalia",
         118000,
         "Balloons_worldwides"
        ],
        [
         "Egypt",
         117000,
         "Uncrate"
        ],
        [
         "France",
         115000,
         "Hello Lovely"
        ],
        [
         "Benin",
         113000,
         "Penny Pinchin Mom |  Budget, Get out of Debt, Save Money & More!"
        ],
        [
         "Madagascar",
         112000,
         "MomAdvice"
        ],
        [
         "Eritrea",
         105000,
         "Core77"
        ],
        [
         "Dominican Republic",
         104000,
         "Wonder Forest"
        ],
        [
         "Venezuela",
         100000,
         "My Poppet - A Craft, Travel & Food Blog for Colourful Living"
        ],
        [
         "Haiti",
         100000,
         "Fres Houz"
        ],
        [
         "Anguilla",
         92000,
         "Kristen | Lifestyle, Mom Tips & Teacher Stuff Blog"
        ],
        [
         "Gibraltar",
         89000,
         "TheSuperBOO!"
        ],
        [
         "Gabon",
         88000,
         "Angela Watson's Truth for Teachers"
        ],
        [
         "Myanmar",
         88000,
         "Hearth and Vine"
        ],
        [
         "Japan",
         87000,
         "The Adult Man - Practical Men's Fashion & Lifestyle Advice"
        ],
        [
         "Kyrgyz Republic",
         87000,
         "ADDitude Magazine"
        ],
        [
         "Ecuador",
         84000,
         "LABONNI"
        ],
        [
         "Mozambique",
         83000,
         "Stylin by Aylin"
        ],
        [
         "Finland",
         79000,
         "Amee"
        ],
        [
         "South Georgia and the South Sandwich Islands",
         75000,
         "Classic Nation"
        ],
        [
         "Dominica",
         67000,
         "Monique - Living Life and Learning"
        ],
        [
         "Tunisia",
         66000,
         "El blog amarillo"
        ],
        [
         "Sudan",
         63000,
         "Literacy and Math Ideas"
        ],
        [
         "Netherlands Antilles",
         61000,
         "Sweet T Makes Three"
        ],
        [
         "Norfolk Island",
         60000,
         "The Skinny Confidential"
        ],
        [
         "French Southern Territories",
         59000,
         "Mary at Home is Where the Boat Is"
        ],
        [
         "Falkland Islands (Malvinas)",
         59000,
         "Victoria Magazine"
        ],
        [
         "Sweden",
         58000,
         "My Bored Toddler"
        ],
        [
         "Guinea-Bissau",
         56000,
         "The Inspiration Edit - Best Instant Pot Recipes And Kids Crafts"
        ],
        [
         "French Polynesia",
         52000,
         "The Printable Princess"
        ],
        [
         "Isle of Man",
         52000,
         "Abbotts At Home"
        ],
        [
         "Ireland",
         49000,
         "Seeking Lavender Lane"
        ],
        [
         "United States of America",
         47000,
         "Evolution of Style"
        ],
        [
         "Mauritius",
         46000,
         "Cool Things- Drawing Ideas , Fashion ,Beautiy and Home Decor"
        ],
        [
         "Bermuda",
         46000,
         "Life on Summerhill | Home, Holiday Decor & DIY Website"
        ],
        [
         "Nauru",
         45000,
         "The Intrepid Guide | Language Learning for Travel"
        ],
        [
         "Qatar",
         45000,
         "Hudson Farmhouse"
        ],
        [
         "Moldova",
         44000,
         "A Blossoming Life DIY Projects + Recipes +     Natural Living"
        ],
        [
         "Fiji",
         41000,
         "Teach Create Motivate"
        ],
        [
         "Denmark",
         36000,
         "A Life Adjacent"
        ],
        [
         "Luxembourg",
         35000,
         "Linda Kamp-Around The Kampfire"
        ],
        [
         "Iran",
         33000,
         "Yourwillbearwitness"
        ],
        [
         "Guernsey",
         32000,
         "TattooMagz"
        ],
        [
         "Mayotte",
         31000,
         "Home with Holliday"
        ],
        [
         "Portugal",
         29000,
         "Lindsey Blogs"
        ],
        [
         "Kenya",
         26000,
         "FOURLINE DESIGN | Home Decor & Accessories"
        ],
        [
         "Cyprus",
         25000,
         "Lantern Lane Designs|Home Decor|DIY Projects|DIY Home Decor"
        ],
        [
         "Mauritania",
         22000,
         "The Literacy Nest"
        ],
        [
         "Turkey",
         21000,
         "Ashley Hewell | The Frugal Ginger | Frugal Living + Personal Finance + Money Saving Tips"
        ],
        [
         "Seychelles",
         21000,
         "ALL FOR WOMAN"
        ],
        [
         "Italy",
         21000,
         "GirlGetGlamorous"
        ],
        [
         "Montserrat",
         20000,
         "Luci // Mums Make Lists - Family and mom lifestyle"
        ],
        [
         "New Caledonia",
         20000,
         "Husskie"
        ],
        [
         "New Zealand",
         19000,
         "ZENIDEES"
        ],
        [
         "Turks and Caicos Islands",
         19000,
         "Let's Eat Cake"
        ],
        [
         "Chile",
         19000,
         "Amber Strong - The Maker’s Map | DIY’s, Crafts & Home Decor"
        ],
        [
         "Jamaica",
         19000,
         "Financial Toolkit"
        ],
        [
         "Malawi",
         18000,
         "Tequila_Rose 🌹"
        ],
        [
         "Ethiopia",
         17000,
         "Sarah Wahl | Crestfox"
        ],
        [
         "Cayman Islands",
         15000,
         "Our Escape Clause l Travel in Europe & Beyond"
        ],
        [
         "Vietnam",
         15000,
         "Leanne | Midlife Blogger at www.crestingthehill.com.au"
        ],
        [
         "Hong Kong",
         14000,
         "Miranda Schroeder // Thoughtfully Thrifted"
        ],
        [
         "Marshall Islands",
         13000,
         "Dashing Darlin' "
        ],
        [
         "Morocco",
         13000,
         "Two Southern Sweeties | Life After 50 + Second Act Lifestyle"
        ],
        [
         "Slovakia (Slovak Republic)",
         11000,
         "CollectorCarAds.com"
        ],
        [
         "Faroe Islands",
         11000,
         "Veterans United Home Loans"
        ],
        [
         "Brazil",
         11000,
         "Budget with Rachel"
        ],
        [
         "Equatorial Guinea",
         10000,
         "Whisper Wanderlust * Travel Blog"
        ],
        [
         "Germany",
         10000,
         "Middle Class Dad"
        ],
        [
         "Liechtenstein",
         10000,
         "Sophie's Way"
        ],
        [
         "Lithuania",
         10000,
         "The Bespoke ELA Classroom"
        ],
        [
         "Saint Martin",
         9000,
         "Montgo Farmhouse"
        ],
        [
         "Romania",
         9000,
         "Soberbadassery | Your Free Online Guide To Sober Living "
        ],
        [
         "Nicaragua",
         9000,
         "Land Rover USA"
        ],
        [
         "Kiribati",
         8000,
         "MOMtivational // Parenting + Pregnancy + More"
        ],
        [
         "Mexico",
         8000,
         "Trendy Socialite"
        ],
        [
         "Solomon Islands",
         7000,
         "Upcyclist"
        ],
        [
         "Turkmenistan",
         7000,
         "Dionne ❤️ Home & Life Organized"
        ],
        [
         "Macedonia",
         7000,
         "Mary"
        ],
        [
         "Peru",
         6000,
         "Nashvegasmama"
        ],
        [
         "Rwanda",
         6000,
         "Traveling Chic"
        ],
        [
         "Estonia",
         6000,
         "Decorator's Warehouse"
        ],
        [
         "Iceland",
         5000,
         "Atuflower"
        ],
        [
         "Papua New Guinea",
         5000,
         "William Nowell"
        ],
        [
         "Niger",
         4000,
         "The Edvocate"
        ],
        [
         "Togo",
         4000,
         "debra"
        ],
        [
         "Yemen",
         4000,
         "T I F F A N Y"
        ],
        [
         "South Africa",
         3000,
         "Sophie Watters"
        ],
        [
         "Israel",
         3000,
         "LISA MASLYK / VOICE OVER TALENT /ACTOR"
        ],
        [
         "Swaziland",
         3000,
         "Laidback Trip"
        ],
        [
         "Singapore",
         3000,
         "CHRISTIAN CHÊNE"
        ],
        [
         "Macao",
         3000,
         "Vanessa Ferran"
        ],
        [
         "Samoa",
         3000,
         "Coley Kuyper Art"
        ],
        [
         "Wallis and Futuna",
         2000,
         "Organize Ways"
        ],
        [
         "Philippines",
         2000,
         "ForYou"
        ],
        [
         "Sao Tome and Principe",
         2000,
         "kayyla.april"
        ],
        [
         "Hungary",
         2000,
         "BalsaCircle"
        ],
        [
         "Tajikistan",
         2000,
         "Our Passion for Travel | Travel blog"
        ],
        [
         "Cook Islands",
         1000,
         "The Spring Break Family - Family Travel"
        ],
        [
         "Micronesia",
         1000,
         "Anna Kim | Cause-Based Travel + Online Coach - My Travelanthropy"
        ],
        [
         "Panama",
         1000,
         "Alanna | Periodic Adventures"
        ],
        [
         "Puerto Rico",
         1000,
         "Book More Brides"
        ],
        [
         "Lao People's Democratic Republic",
         849,
         "Cora Graaff"
        ],
        [
         "Holy See (Vatican City State)",
         831,
         "Mich Cam"
        ],
        [
         "Oman",
         777,
         "Kennedy Taylor"
        ],
        [
         "Kazakhstan",
         771,
         "Fashionsum | Nails, Tattoos, Hair, Makeup"
        ],
        [
         "Slovenia",
         746,
         "Vsnicholls"
        ],
        [
         "Honduras",
         663,
         "Michellé Groenewald Da Silva"
        ],
        [
         "Saint Barthelemy",
         517,
         "Alexandria Franko"
        ],
        [
         "Guyana",
         394,
         "Sarah Martin"
        ],
        [
         "Paraguay",
         392,
         "Michal McCamman"
        ],
        [
         "Saudi Arabia",
         332,
         "Jay Anna Fuentes"
        ],
        [
         "Saint Pierre and Miquelon",
         323,
         "Ebbert Barnes"
        ],
        [
         "Greenland",
         270,
         "Haiti Babi | Artisan Baby Blankets and Hats"
        ],
        [
         "Poland",
         265,
         "BEIMER"
        ],
        [
         "Trinidad and Tobago",
         254,
         "Syndi Mulcahy"
        ],
        [
         "Ghana",
         191,
         "jennifer"
        ],
        [
         "Norway",
         189,
         "DailyDose"
        ],
        [
         "Nigeria",
         164,
         "eyelashdance"
        ],
        [
         "Saint Vincent and the Grenadines",
         121,
         "CabreraE"
        ],
        [
         "Serbia",
         78,
         "VEM Designs"
        ],
        [
         "Switzerland",
         45,
         "Kelley Rosney"
        ],
        [
         "Tuvalu",
         41,
         "Addymae Rodi"
        ],
        [
         "Tanzania",
         26,
         "mj"
        ],
        [
         "Tonga",
         0,
         "Grecia Perales"
        ]
       ],
       "datasetInfos": [],
       "dbfsResultPath": null,
       "isJsonSchema": true,
       "metadata": {},
       "overflow": false,
       "plotOptions": {
        "customPlotOptions": {},
        "displayType": "table",
        "pivotAggregation": null,
        "pivotColumns": null,
        "xColumns": null,
        "yColumns": null
       },
       "removedWidgets": [],
       "schema": [
        {
         "metadata": "{}",
         "name": "country",
         "type": "\"string\""
        },
        {
         "metadata": "{}",
         "name": "follower_count",
         "type": "\"integer\""
        },
        {
         "metadata": "{}",
         "name": "poster_name",
         "type": "\"string\""
        }
       ],
       "type": "table"
      }
     },
     "output_type": "display_data"
    },
    {
     "output_type": "display_data",
     "data": {
      "text/html": [
       "<style scoped>\n",
       "  .table-result-container {\n",
       "    max-height: 300px;\n",
       "    overflow: auto;\n",
       "  }\n",
       "  table, th, td {\n",
       "    border: 1px solid black;\n",
       "    border-collapse: collapse;\n",
       "  }\n",
       "  th, td {\n",
       "    padding: 5px;\n",
       "  }\n",
       "  th {\n",
       "    text-align: left;\n",
       "  }\n",
       "</style><div class='table-result-container'><table class='table-result'><thead style='background-color: white'><tr><th>country</th><th>follower_count</th></tr></thead><tbody><tr><td>American Samoa</td><td>8000000</td></tr></tbody></table></div>"
      ]
     },
     "metadata": {
      "application/vnd.databricks.v1+output": {
       "addedWidgets": {},
       "aggData": [],
       "aggError": "",
       "aggOverflow": false,
       "aggSchema": [],
       "aggSeriesLimitReached": false,
       "aggType": "",
       "arguments": {},
       "columnCustomDisplayInfos": {},
       "data": [
        [
         "American Samoa",
         8000000
        ]
       ],
       "datasetInfos": [],
       "dbfsResultPath": null,
       "isJsonSchema": true,
       "metadata": {},
       "overflow": false,
       "plotOptions": {
        "customPlotOptions": {},
        "displayType": "table",
        "pivotAggregation": null,
        "pivotColumns": null,
        "xColumns": null,
        "yColumns": null
       },
       "removedWidgets": [],
       "schema": [
        {
         "metadata": "{}",
         "name": "country",
         "type": "\"string\""
        },
        {
         "metadata": "{}",
         "name": "follower_count",
         "type": "\"integer\""
        }
       ],
       "type": "table"
      }
     },
     "output_type": "display_data"
    }
   ],
   "source": [
    "# Step 1: Join and group by category and year and count the unique posts and give it an alias\n",
    "df = spark.table(\"global_temp.pin\").join(spark.table(\"global_temp.geo\"), \"ind\")\n",
    "\n",
    "# Step 2: Partition by the country and orderby follower_count to the use in subsquent window function call\n",
    "window = Window.partitionBy('geo.country').orderBy(f.desc('pin.follower_count'))\n",
    "#opted for row number due to pin post data may contain different posts by the same user therefore dense would select that same user for as many posts as they have\n",
    "df_with_rn = df.withColumn(\"rn\", f.row_number().over(window))\n",
    "\n",
    "# Step 3: now that the window function is finished we have to extract the top users for each country\n",
    "df_country_top_users = df_with_rn.filter(f.col('rn') == 1).orderBy(f.desc('pin.follower_count'))\n",
    "\n",
    "# Step 4: top users for each country\n",
    "display(df_country_top_users.select('country', 'follower_count', 'poster_name'))\n",
    "\n",
    "# Step 5: The country that has the top user\n",
    "display(df_country_top_users.select(f.col(\"country\"),f.col(\"follower_count\")).orderBy(f.desc(\"follower_count\")).limit(1))\n",
    "\n"
   ]
  },
  {
   "cell_type": "markdown",
   "metadata": {
    "application/vnd.databricks.v1+cell": {
     "cellMetadata": {
      "byteLimit": 2048000,
      "rowLimit": 10000
     },
     "inputWidgets": {},
     "nuid": "a00e8654-6745-4959-a611-d720d290ed39",
     "showTitle": false,
     "title": ""
    }
   },
   "source": [
    "Q4. Find the most popular category for different age groups: \\\n",
    "\n",
    "    The following age groups: \n",
    "      18-24\n",
    "      25-35\n",
    "      36-50\n",
    "      +50"
   ]
  },
  {
   "cell_type": "code",
   "execution_count": 0,
   "metadata": {
    "application/vnd.databricks.v1+cell": {
     "cellMetadata": {
      "byteLimit": 2048000,
      "rowLimit": 10000
     },
     "inputWidgets": {},
     "nuid": "548e7072-456a-4ee3-9228-a8d3b13bf67f",
     "showTitle": false,
     "title": ""
    }
   },
   "outputs": [
    {
     "output_type": "display_data",
     "data": {
      "text/html": [
       "<style scoped>\n",
       "  .table-result-container {\n",
       "    max-height: 300px;\n",
       "    overflow: auto;\n",
       "  }\n",
       "  table, th, td {\n",
       "    border: 1px solid black;\n",
       "    border-collapse: collapse;\n",
       "  }\n",
       "  th, td {\n",
       "    padding: 5px;\n",
       "  }\n",
       "  th {\n",
       "    text-align: left;\n",
       "  }\n",
       "</style><div class='table-result-container'><table class='table-result'><thead style='background-color: white'><tr><th>category</th><th>category_count</th><th>age_groups</th></tr></thead><tbody><tr><td>tattoos</td><td>55</td><td>18-24</td></tr><tr><td>christmas</td><td>30</td><td>25-35</td></tr><tr><td>quotes</td><td>20</td><td>36-50</td></tr><tr><td>beauty</td><td>20</td><td>36-50</td></tr><tr><td>mens-fashion</td><td>10</td><td>50+</td></tr></tbody></table></div>"
      ]
     },
     "metadata": {
      "application/vnd.databricks.v1+output": {
       "addedWidgets": {},
       "aggData": [],
       "aggError": "",
       "aggOverflow": false,
       "aggSchema": [],
       "aggSeriesLimitReached": false,
       "aggType": "",
       "arguments": {},
       "columnCustomDisplayInfos": {},
       "data": [
        [
         "tattoos",
         55,
         "18-24"
        ],
        [
         "christmas",
         30,
         "25-35"
        ],
        [
         "quotes",
         20,
         "36-50"
        ],
        [
         "beauty",
         20,
         "36-50"
        ],
        [
         "mens-fashion",
         10,
         "50+"
        ]
       ],
       "datasetInfos": [],
       "dbfsResultPath": null,
       "isJsonSchema": true,
       "metadata": {},
       "overflow": false,
       "plotOptions": {
        "customPlotOptions": {},
        "displayType": "table",
        "pivotAggregation": null,
        "pivotColumns": null,
        "xColumns": null,
        "yColumns": null
       },
       "removedWidgets": [],
       "schema": [
        {
         "metadata": "{}",
         "name": "category",
         "type": "\"string\""
        },
        {
         "metadata": "{}",
         "name": "category_count",
         "type": "\"long\""
        },
        {
         "metadata": "{}",
         "name": "age_groups",
         "type": "\"string\""
        }
       ],
       "type": "table"
      }
     },
     "output_type": "display_data"
    }
   ],
   "source": [
    "df = spark.table('global_temp.user').join(spark.table('global_temp.pin'), 'ind')\n",
    "#based on the age, created a new column age_groups that will split users into age groups\n",
    "df = df.withColumn('age_groups', f.when(f.col('age').between(18, 24), '18-24')\n",
    "                                  .when(f.col('age').between(25, 35), '25-35')\n",
    "                                  .when(f.col('age').between(36, 50), '36-50')\n",
    "                                  .when(f.col('age') > 50, '50+'))\n",
    "#Groups the dataframe by age group and then category and finally agg the distinct category counts                                  \n",
    "df = df.groupBy('age_groups', 'category').agg(f.countDistinct(\"unique_id\").alias(\"category_count\"))\n",
    "\n",
    "#creates a window that partitions by age groups and orders by category count\n",
    "window = Window.partitionBy('age_groups').orderBy(f.desc('category_count'))\n",
    "\n",
    "#again dense rank because there could be two most popular categories\n",
    "df_with_dr = df.withColumn(\"dr\", f.dense_rank().over(window))\n",
    "\n",
    "#finally filters on the dr column to provide the top category/categories for each age group\n",
    "top_category_by_age_groups = df_with_dr.filter(f.col(\"dr\") == 1).orderBy(f.desc(\"category_count\"))\n",
    "display(top_category_by_age_groups.select('category','category_count','age_groups'))\n"
   ]
  },
  {
   "cell_type": "markdown",
   "metadata": {
    "application/vnd.databricks.v1+cell": {
     "cellMetadata": {
      "byteLimit": 2048000,
      "rowLimit": 10000
     },
     "inputWidgets": {},
     "nuid": "7c245b67-2d39-4b6a-8d19-901406eca5bc",
     "showTitle": false,
     "title": ""
    }
   },
   "source": [
    "Q5. Find the median follower count for users of different age groups"
   ]
  },
  {
   "cell_type": "code",
   "execution_count": 0,
   "metadata": {
    "application/vnd.databricks.v1+cell": {
     "cellMetadata": {
      "byteLimit": 2048000,
      "rowLimit": 10000
     },
     "inputWidgets": {},
     "nuid": "040414d1-9d5c-48f5-96cb-4f67582cb223",
     "showTitle": false,
     "title": ""
    }
   },
   "outputs": [
    {
     "output_type": "display_data",
     "data": {
      "text/html": [
       "<style scoped>\n",
       "  .table-result-container {\n",
       "    max-height: 300px;\n",
       "    overflow: auto;\n",
       "  }\n",
       "  table, th, td {\n",
       "    border: 1px solid black;\n",
       "    border-collapse: collapse;\n",
       "  }\n",
       "  th, td {\n",
       "    padding: 5px;\n",
       "  }\n",
       "  th {\n",
       "    text-align: left;\n",
       "  }\n",
       "</style><div class='table-result-container'><table class='table-result'><thead style='background-color: white'><tr><th>age_groups</th><th>median_follower_count</th></tr></thead><tbody><tr><td>50+</td><td>1000</td></tr><tr><td>36-50</td><td>7000</td></tr><tr><td>18-24</td><td>92000</td></tr><tr><td>25-35</td><td>23000</td></tr></tbody></table></div>"
      ]
     },
     "metadata": {
      "application/vnd.databricks.v1+output": {
       "addedWidgets": {},
       "aggData": [],
       "aggError": "",
       "aggOverflow": false,
       "aggSchema": [],
       "aggSeriesLimitReached": false,
       "aggType": "",
       "arguments": {},
       "columnCustomDisplayInfos": {},
       "data": [
        [
         "50+",
         1000
        ],
        [
         "36-50",
         7000
        ],
        [
         "18-24",
         92000
        ],
        [
         "25-35",
         23000
        ]
       ],
       "datasetInfos": [],
       "dbfsResultPath": null,
       "isJsonSchema": true,
       "metadata": {},
       "overflow": false,
       "plotOptions": {
        "customPlotOptions": {},
        "displayType": "table",
        "pivotAggregation": null,
        "pivotColumns": null,
        "xColumns": null,
        "yColumns": null
       },
       "removedWidgets": [],
       "schema": [
        {
         "metadata": "{}",
         "name": "age_groups",
         "type": "\"string\""
        },
        {
         "metadata": "{}",
         "name": "median_follower_count",
         "type": "\"integer\""
        }
       ],
       "type": "table"
      }
     },
     "output_type": "display_data"
    }
   ],
   "source": [
    "\n",
    "df = spark.table('global_temp.user').join(spark.table('global_temp.pin'), 'ind')\n",
    "\n",
    "#split based on age assign age groups\n",
    "df = df.withColumn('age_groups', f.when(f.col('age').between(18, 24), '18-24')\n",
    "                                  .when(f.col('age').between(25, 35), '25-35')\n",
    "                                  .when(f.col('age').between(36, 50), '36-50')\n",
    "                                  .when(f.col('age') > 50, '50+'))\n",
    "\n",
    "#the median following of each age group calculated by percentile_approx, in later pyspark versions there is a median function\n",
    "display(df.groupBy('age_groups').agg(f.percentile_approx(\"follower_count\", 0.5).alias(\"median_follower_count\")))\n",
    "\n",
    "                                "
   ]
  },
  {
   "cell_type": "markdown",
   "metadata": {
    "application/vnd.databricks.v1+cell": {
     "cellMetadata": {
      "byteLimit": 2048000,
      "rowLimit": 10000
     },
     "inputWidgets": {},
     "nuid": "d06400f5-d6c7-408f-b892-71ee6c7568e9",
     "showTitle": false,
     "title": ""
    }
   },
   "source": [
    "Q6. Find how many users have joined each year?"
   ]
  },
  {
   "cell_type": "code",
   "execution_count": 0,
   "metadata": {
    "application/vnd.databricks.v1+cell": {
     "cellMetadata": {
      "byteLimit": 2048000,
      "rowLimit": 10000
     },
     "inputWidgets": {},
     "nuid": "c3de72db-253c-47ad-8df7-57db1fb702ce",
     "showTitle": false,
     "title": ""
    }
   },
   "outputs": [
    {
     "output_type": "display_data",
     "data": {
      "text/html": [
       "<style scoped>\n",
       "  .table-result-container {\n",
       "    max-height: 300px;\n",
       "    overflow: auto;\n",
       "  }\n",
       "  table, th, td {\n",
       "    border: 1px solid black;\n",
       "    border-collapse: collapse;\n",
       "  }\n",
       "  th, td {\n",
       "    padding: 5px;\n",
       "  }\n",
       "  th {\n",
       "    text-align: left;\n",
       "  }\n",
       "</style><div class='table-result-container'><table class='table-result'><thead style='background-color: white'><tr><th>post_year</th><th>number_of_users_joined</th></tr></thead><tbody><tr><td>2015</td><td>213</td></tr><tr><td>2016</td><td>408</td></tr><tr><td>2017</td><td>157</td></tr></tbody></table></div>"
      ]
     },
     "metadata": {
      "application/vnd.databricks.v1+output": {
       "addedWidgets": {},
       "aggData": [],
       "aggError": "",
       "aggOverflow": false,
       "aggSchema": [],
       "aggSeriesLimitReached": false,
       "aggType": "",
       "arguments": {},
       "columnCustomDisplayInfos": {},
       "data": [
        [
         2015,
         213
        ],
        [
         2016,
         408
        ],
        [
         2017,
         157
        ]
       ],
       "datasetInfos": [],
       "dbfsResultPath": null,
       "isJsonSchema": true,
       "metadata": {},
       "overflow": false,
       "plotOptions": {
        "customPlotOptions": {},
        "displayType": "table",
        "pivotAggregation": null,
        "pivotColumns": null,
        "xColumns": null,
        "yColumns": null
       },
       "removedWidgets": [],
       "schema": [
        {
         "metadata": "{}",
         "name": "post_year",
         "type": "\"integer\""
        },
        {
         "metadata": "{}",
         "name": "number_of_users_joined",
         "type": "\"long\""
        }
       ],
       "type": "table"
      }
     },
     "output_type": "display_data"
    }
   ],
   "source": [
    "#the number of users joined every year\n",
    "df_number_of_users_each_year = spark.table('global_temp.user').groupby(f.year('date_joined').alias('post_year')).agg(f.countDistinct('user_name').alias('number_of_users_joined'))\n",
    "display(df_number_of_users_each_year)"
   ]
  },
  {
   "cell_type": "markdown",
   "metadata": {
    "application/vnd.databricks.v1+cell": {
     "cellMetadata": {
      "byteLimit": 2048000,
      "rowLimit": 10000
     },
     "inputWidgets": {},
     "nuid": "33042774-12c5-4b51-992c-f190bb851b38",
     "showTitle": false,
     "title": ""
    }
   },
   "source": [
    "Q7. Find the median follower count of users based on their joining year"
   ]
  },
  {
   "cell_type": "code",
   "execution_count": 0,
   "metadata": {
    "application/vnd.databricks.v1+cell": {
     "cellMetadata": {
      "byteLimit": 2048000,
      "rowLimit": 10000
     },
     "inputWidgets": {},
     "nuid": "efef1dc6-4e39-46f1-80a5-d992b3159039",
     "showTitle": false,
     "title": ""
    }
   },
   "outputs": [
    {
     "output_type": "display_data",
     "data": {
      "text/html": [
       "<style scoped>\n",
       "  .table-result-container {\n",
       "    max-height: 300px;\n",
       "    overflow: auto;\n",
       "  }\n",
       "  table, th, td {\n",
       "    border: 1px solid black;\n",
       "    border-collapse: collapse;\n",
       "  }\n",
       "  th, td {\n",
       "    padding: 5px;\n",
       "  }\n",
       "  th {\n",
       "    text-align: left;\n",
       "  }\n",
       "</style><div class='table-result-container'><table class='table-result'><thead style='background-color: white'><tr><th>post_year</th><th>median_follower_count</th></tr></thead><tbody><tr><td>2015</td><td>117000</td></tr><tr><td>2016</td><td>21000</td></tr><tr><td>2017</td><td>2000</td></tr></tbody></table></div>"
      ]
     },
     "metadata": {
      "application/vnd.databricks.v1+output": {
       "addedWidgets": {},
       "aggData": [],
       "aggError": "",
       "aggOverflow": false,
       "aggSchema": [],
       "aggSeriesLimitReached": false,
       "aggType": "",
       "arguments": {},
       "columnCustomDisplayInfos": {},
       "data": [
        [
         2015,
         117000
        ],
        [
         2016,
         21000
        ],
        [
         2017,
         2000
        ]
       ],
       "datasetInfos": [],
       "dbfsResultPath": null,
       "isJsonSchema": true,
       "metadata": {},
       "overflow": false,
       "plotOptions": {
        "customPlotOptions": {},
        "displayType": "table",
        "pivotAggregation": null,
        "pivotColumns": null,
        "xColumns": null,
        "yColumns": null
       },
       "removedWidgets": [],
       "schema": [
        {
         "metadata": "{}",
         "name": "post_year",
         "type": "\"integer\""
        },
        {
         "metadata": "{}",
         "name": "median_follower_count",
         "type": "\"integer\""
        }
       ],
       "type": "table"
      }
     },
     "output_type": "display_data"
    }
   ],
   "source": [
    " #median follower count based on join year\n",
    " df_median_followers_by_join_year = spark.table('global_temp.user').join(spark.table('global_temp.pin'), 'ind').groupby(f.year('date_joined').alias('post_year')).agg(f.percentile_approx(\"follower_count\", 0.5).alias(\"median_follower_count\"))\n",
    "\n",
    " display(df_median_followers_by_join_year)"
   ]
  },
  {
   "cell_type": "markdown",
   "metadata": {
    "application/vnd.databricks.v1+cell": {
     "cellMetadata": {
      "byteLimit": 2048000,
      "rowLimit": 10000
     },
     "inputWidgets": {},
     "nuid": "c4b62b48-b8d0-4413-b7f4-01380053f45d",
     "showTitle": false,
     "title": ""
    }
   },
   "source": [
    "Q8. Find the median follower count of users  based on their age group and join year\n"
   ]
  },
  {
   "cell_type": "code",
   "execution_count": 0,
   "metadata": {
    "application/vnd.databricks.v1+cell": {
     "cellMetadata": {
      "byteLimit": 2048000,
      "rowLimit": 10000
     },
     "inputWidgets": {},
     "nuid": "34709b34-1bc9-433f-80ab-6e2a3b849761",
     "showTitle": false,
     "title": ""
    }
   },
   "outputs": [
    {
     "output_type": "display_data",
     "data": {
      "text/html": [
       "<style scoped>\n",
       "  .table-result-container {\n",
       "    max-height: 300px;\n",
       "    overflow: auto;\n",
       "  }\n",
       "  table, th, td {\n",
       "    border: 1px solid black;\n",
       "    border-collapse: collapse;\n",
       "  }\n",
       "  th, td {\n",
       "    padding: 5px;\n",
       "  }\n",
       "  th {\n",
       "    text-align: left;\n",
       "  }\n",
       "</style><div class='table-result-container'><table class='table-result'><thead style='background-color: white'><tr><th>age_groups</th><th>post_year</th><th>median_follower_count</th></tr></thead><tbody><tr><td>18-24</td><td>2017</td><td>11000</td></tr><tr><td>18-24</td><td>2016</td><td>42000</td></tr><tr><td>18-24</td><td>2015</td><td>221000</td></tr><tr><td>25-35</td><td>2017</td><td>1000</td></tr><tr><td>25-35</td><td>2016</td><td>24000</td></tr><tr><td>25-35</td><td>2015</td><td>37000</td></tr><tr><td>36-50</td><td>2017</td><td>3000</td></tr><tr><td>36-50</td><td>2016</td><td>9000</td></tr><tr><td>36-50</td><td>2015</td><td>10000</td></tr><tr><td>50+</td><td>2017</td><td>517</td></tr><tr><td>50+</td><td>2016</td><td>2000</td></tr><tr><td>50+</td><td>2015</td><td>1000</td></tr></tbody></table></div>"
      ]
     },
     "metadata": {
      "application/vnd.databricks.v1+output": {
       "addedWidgets": {},
       "aggData": [],
       "aggError": "",
       "aggOverflow": false,
       "aggSchema": [],
       "aggSeriesLimitReached": false,
       "aggType": "",
       "arguments": {},
       "columnCustomDisplayInfos": {},
       "data": [
        [
         "18-24",
         2017,
         11000
        ],
        [
         "18-24",
         2016,
         42000
        ],
        [
         "18-24",
         2015,
         221000
        ],
        [
         "25-35",
         2017,
         1000
        ],
        [
         "25-35",
         2016,
         24000
        ],
        [
         "25-35",
         2015,
         37000
        ],
        [
         "36-50",
         2017,
         3000
        ],
        [
         "36-50",
         2016,
         9000
        ],
        [
         "36-50",
         2015,
         10000
        ],
        [
         "50+",
         2017,
         517
        ],
        [
         "50+",
         2016,
         2000
        ],
        [
         "50+",
         2015,
         1000
        ]
       ],
       "datasetInfos": [],
       "dbfsResultPath": null,
       "isJsonSchema": true,
       "metadata": {},
       "overflow": false,
       "plotOptions": {
        "customPlotOptions": {},
        "displayType": "table",
        "pivotAggregation": null,
        "pivotColumns": null,
        "xColumns": null,
        "yColumns": null
       },
       "removedWidgets": [],
       "schema": [
        {
         "metadata": "{}",
         "name": "age_groups",
         "type": "\"string\""
        },
        {
         "metadata": "{}",
         "name": "post_year",
         "type": "\"integer\""
        },
        {
         "metadata": "{}",
         "name": "median_follower_count",
         "type": "\"integer\""
        }
       ],
       "type": "table"
      }
     },
     "output_type": "display_data"
    }
   ],
   "source": [
    "df = spark.table('global_temp.user').join(spark.table('global_temp.pin'), 'ind')\n",
    "#split into age groups based on age\n",
    "df = df.withColumn('age_groups', f.when(f.col('age').between(18, 24), '18-24')\n",
    "                                  .when(f.col('age').between(25, 35), '25-35')\n",
    "                                  .when(f.col('age').between(36, 50), '36-50')\n",
    "                                  .when(f.col('age') > 50, '50+'))\n",
    "#median follower count based on age group further grouped by joining year\n",
    "df = df.groupby('age_groups',f.year('date_joined').alias('post_year')).agg(f.percentile_approx(\"follower_count\", 0.5).alias(\"median_follower_count\"))\n",
    "#ordered by age group and descending join year\n",
    "display(df.select('age_groups', 'post_year', 'median_follower_count').orderBy('age_groups', f.desc('post_year')))\n",
    "\n"
   ]
  }
 ],
 "metadata": {
  "application/vnd.databricks.v1+notebook": {
   "dashboards": [],
   "language": "python",
   "notebookMetadata": {
    "pythonIndentUnit": 4
   },
   "notebookName": "Questions Answered About Pinterest Data",
   "widgets": {}
  }
 },
 "nbformat": 4,
 "nbformat_minor": 0
}
